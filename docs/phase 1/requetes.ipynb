{
 "cells": [
  {
   "cell_type": "code",
   "execution_count": 1,
   "metadata": {
    "ExecuteTime": {
     "end_time": "2019-02-01T16:12:39.481997Z",
     "start_time": "2019-02-01T16:12:39.472476Z"
    }
   },
   "outputs": [],
   "source": [
    "-- connection: host='localhost' dbname='Photographies' user='postgres' password='postgres'"
   ]
  },
  {
   "cell_type": "markdown",
   "metadata": {},
   "source": [
    "# Point de vue utilisateur:"
   ]
  },
  {
   "cell_type": "markdown",
   "metadata": {},
   "source": [
    "##  La photo dans laquelle figure une personne.(fonction)"
   ]
  },
  {
   "cell_type": "code",
   "execution_count": 2,
   "metadata": {
    "ExecuteTime": {
     "end_time": "2019-02-01T16:12:39.540590Z",
     "start_time": "2019-02-01T16:12:39.509394Z"
    }
   },
   "outputs": [
    {
     "name": "stdout",
     "output_type": "stream",
     "text": [
      "10 row(s) returned.\n"
     ]
    },
    {
     "data": {
      "text/html": [
       "<table>\n",
       "<tr><th style=\"text-align: right;\">  article</th><th>nomoeuvre                           </th></tr>\n",
       "<tr><td style=\"text-align: right;\">    10923</td><td>BECQUEREL, Antoine-César (physicien)</td></tr>\n",
       "<tr><td style=\"text-align: right;\">    13889</td><td>BECQUEREL, Antoine-César (physicien)</td></tr>\n",
       "<tr><td style=\"text-align: right;\">    13890</td><td>BECQUEREL, Antoine-César (physicien)</td></tr>\n",
       "<tr><td style=\"text-align: right;\">    16626</td><td>BECQUEREL, Antoine-César (physicien)</td></tr>\n",
       "<tr><td style=\"text-align: right;\">    16633</td><td>BECQUEREL, Antoine-César (physicien)</td></tr>\n",
       "<tr><td style=\"text-align: right;\">    17825</td><td>BECQUEREL, Antoine-César (physicien)</td></tr>\n",
       "<tr><td style=\"text-align: right;\">    17830</td><td>BECQUEREL, Antoine-César (physicien)</td></tr>\n",
       "<tr><td style=\"text-align: right;\">    17831</td><td>BECQUEREL, Antoine-César (physicien)</td></tr>\n",
       "<tr><td style=\"text-align: right;\">    17832</td><td>BECQUEREL, Antoine-César (physicien)</td></tr>\n",
       "<tr><td style=\"text-align: right;\">    17840</td><td>BECQUEREL (famille)                 </td></tr>\n",
       "</table>"
      ],
      "text/latex": [
       "\\begin{tabular}{rl}\n",
       "\\toprule\n",
       "   article & nomoeuvre                            \\\\\n",
       "\\midrule\n",
       "     10923 & BECQUEREL, Antoine-César (physicien) \\\\\n",
       "     13889 & BECQUEREL, Antoine-César (physicien) \\\\\n",
       "     13890 & BECQUEREL, Antoine-César (physicien) \\\\\n",
       "     16626 & BECQUEREL, Antoine-César (physicien) \\\\\n",
       "     16633 & BECQUEREL, Antoine-César (physicien) \\\\\n",
       "     17825 & BECQUEREL, Antoine-César (physicien) \\\\\n",
       "     17830 & BECQUEREL, Antoine-César (physicien) \\\\\n",
       "     17831 & BECQUEREL, Antoine-César (physicien) \\\\\n",
       "     17832 & BECQUEREL, Antoine-César (physicien) \\\\\n",
       "     17840 & BECQUEREL (famille)                  \\\\\n",
       "\\bottomrule\n",
       "\\end{tabular}"
      ],
      "text/plain": [
       "  article  nomoeuvre\n",
       "---------  ------------------------------------\n",
       "    10923  BECQUEREL, Antoine-César (physicien)\n",
       "    13889  BECQUEREL, Antoine-César (physicien)\n",
       "    13890  BECQUEREL, Antoine-César (physicien)\n",
       "    16626  BECQUEREL, Antoine-César (physicien)\n",
       "    16633  BECQUEREL, Antoine-César (physicien)\n",
       "    17825  BECQUEREL, Antoine-César (physicien)\n",
       "    17830  BECQUEREL, Antoine-César (physicien)\n",
       "    17831  BECQUEREL, Antoine-César (physicien)\n",
       "    17832  BECQUEREL, Antoine-César (physicien)\n",
       "    17840  BECQUEREL (famille)"
      ]
     },
     "metadata": {},
     "output_type": "display_data"
    }
   ],
   "source": [
    "/*====================================================\n",
    " * La photo dans laquelle figure une personne.(fonction)\n",
    " *====================================================*/\n",
    "DROP FUNCTION IF EXISTS chercher_photo_par_personne;\n",
    "CREATE OR REPLACE FUNCTION chercher_photo_par_personne(str varchar)\n",
    "RETURNS TABLE(Article integer, NomOeuvre varchar) AS $$\n",
    "    BEGIN\n",
    "        RETURN QUERY(\n",
    "            SELECT PhotoArticle, I.NomOeuvre FROM\n",
    "            Document D JOIN IndexPersonne I on D.idOeuvre=I.idOeuvre\n",
    "            WHERE I.NomOeuvre ILIKE '%' || str || '%'\n",
    "        );\n",
    "    END; \n",
    "$$ language plpgsql;\n",
    "\n",
    "SELECT * FROM chercher_photo_par_personne('Becquerel') LIMIT 10;"
   ]
  },
  {
   "cell_type": "markdown",
   "metadata": {},
   "source": [
    "## Les photos qui présentent un sujet.(fonction)"
   ]
  },
  {
   "cell_type": "code",
   "execution_count": 3,
   "metadata": {
    "ExecuteTime": {
     "end_time": "2019-02-01T16:12:39.582035Z",
     "start_time": "2019-02-01T16:12:39.545331Z"
    }
   },
   "outputs": [
    {
     "name": "stdout",
     "output_type": "stream",
     "text": [
      "10 row(s) returned.\n"
     ]
    },
    {
     "data": {
      "text/html": [
       "<table>\n",
       "<tr><th style=\"text-align: right;\">  photoarticle</th><th>nomoeuvre                       </th></tr>\n",
       "<tr><td style=\"text-align: right;\">             2</td><td>église Notre-Dame-de-Recouvrance</td></tr>\n",
       "<tr><td style=\"text-align: right;\">             2</td><td>église Notre-Dame-de-Recouvrance</td></tr>\n",
       "<tr><td style=\"text-align: right;\">             2</td><td>église Notre-Dame-de-Recouvrance</td></tr>\n",
       "<tr><td style=\"text-align: right;\">             2</td><td>église Notre-Dame-de-Recouvrance</td></tr>\n",
       "<tr><td style=\"text-align: right;\">             7</td><td>église                          </td></tr>\n",
       "<tr><td style=\"text-align: right;\">             7</td><td>église                          </td></tr>\n",
       "<tr><td style=\"text-align: right;\">             8</td><td>église                          </td></tr>\n",
       "<tr><td style=\"text-align: right;\">             9</td><td>église                          </td></tr>\n",
       "<tr><td style=\"text-align: right;\">             9</td><td>église                          </td></tr>\n",
       "<tr><td style=\"text-align: right;\">             9</td><td>église                          </td></tr>\n",
       "</table>"
      ],
      "text/latex": [
       "\\begin{tabular}{rl}\n",
       "\\toprule\n",
       "   photoarticle & nomoeuvre                        \\\\\n",
       "\\midrule\n",
       "              2 & église Notre-Dame-de-Recouvrance \\\\\n",
       "              2 & église Notre-Dame-de-Recouvrance \\\\\n",
       "              2 & église Notre-Dame-de-Recouvrance \\\\\n",
       "              2 & église Notre-Dame-de-Recouvrance \\\\\n",
       "              7 & église                           \\\\\n",
       "              7 & église                           \\\\\n",
       "              8 & église                           \\\\\n",
       "              9 & église                           \\\\\n",
       "              9 & église                           \\\\\n",
       "              9 & église                           \\\\\n",
       "\\bottomrule\n",
       "\\end{tabular}"
      ],
      "text/plain": [
       "  photoarticle  nomoeuvre\n",
       "--------------  --------------------------------\n",
       "             2  église Notre-Dame-de-Recouvrance\n",
       "             2  église Notre-Dame-de-Recouvrance\n",
       "             2  église Notre-Dame-de-Recouvrance\n",
       "             2  église Notre-Dame-de-Recouvrance\n",
       "             7  église\n",
       "             7  église\n",
       "             8  église\n",
       "             9  église\n",
       "             9  église\n",
       "             9  église"
      ]
     },
     "metadata": {},
     "output_type": "display_data"
    }
   ],
   "source": [
    "/*====================================================\n",
    " * Les photos qui présentent un sujet.(fonction)\n",
    " *====================================================*/\n",
    "DROP FUNCTION IF EXISTS chercher_photo_par_sujet;\n",
    "CREATE OR REPLACE FUNCTION chercher_photo_par_sujet(str varchar)\n",
    "RETURNS TABLE(PhotoArticle integer, NomOeuvre varchar) AS $$\n",
    "    BEGIN\n",
    "        RETURN QUERY(\n",
    "            SELECT D.PhotoArticle, S.DescSujet FROM\n",
    "            Document D JOIN Sujet S on D.idSujet = S.idSujet\n",
    "            WHERE S.DescSujet ILIKE '%' || str || '%'\n",
    "        );\n",
    "    END;  \n",
    "$$ language plpgsql;\n",
    "\n",
    "SELECT * FROM chercher_photo_par_sujet('église') LIMIT 10;"
   ]
  },
  {
   "cell_type": "markdown",
   "metadata": {},
   "source": [
    "## Afficher que les photos en couleur (view)"
   ]
  },
  {
   "cell_type": "code",
   "execution_count": 4,
   "metadata": {
    "ExecuteTime": {
     "end_time": "2019-02-01T16:12:39.601105Z",
     "start_time": "2019-02-01T16:12:39.583650Z"
    }
   },
   "outputs": [
    {
     "name": "stdout",
     "output_type": "stream",
     "text": [
      "10 row(s) returned.\n"
     ]
    },
    {
     "data": {
      "text/html": [
       "<table>\n",
       "<tr><th style=\"text-align: right;\">  article</th><th>remarques                            </th><th style=\"text-align: right;\">  nbrcli</th><th>descdet                                           </th><th style=\"text-align: right;\">  idserie</th></tr>\n",
       "<tr><td style=\"text-align: right;\">      803</td><td>même vue expo différente             </td><td style=\"text-align: right;\">       2</td><td>Tableau sur retable                               </td><td style=\"text-align: right;\">        1</td></tr>\n",
       "<tr><td style=\"text-align: right;\">      871</td><td>même vue expo différente             </td><td style=\"text-align: right;\">       1</td><td>Tribune et orgue                                  </td><td style=\"text-align: right;\">        1</td></tr>\n",
       "<tr><td style=\"text-align: right;\">      871</td><td>même vue expo différente             </td><td style=\"text-align: right;\">       1</td><td>Tribune et orgue                                  </td><td style=\"text-align: right;\">        1</td></tr>\n",
       "<tr><td style=\"text-align: right;\">      926</td><td>même vue expo différente             </td><td style=\"text-align: right;\">       2</td><td>Trésors de la Cathédrale, petit reliquaire à roues</td><td style=\"text-align: right;\">        1</td></tr>\n",
       "<tr><td style=\"text-align: right;\">      927</td><td>même vue expo différente             </td><td style=\"text-align: right;\">       1</td><td>Crosse de Manassés de Seignelay                   </td><td style=\"text-align: right;\">        1</td></tr>\n",
       "<tr><td style=\"text-align: right;\">      929</td><td>même vue expo différente             </td><td style=\"text-align: right;\">       2</td><td>Médaillon de gants de Raoul Grosparmi             </td><td style=\"text-align: right;\">        1</td></tr>\n",
       "<tr><td style=\"text-align: right;\">      930</td><td>même vue expo différente             </td><td style=\"text-align: right;\">       1</td><td>Crosse de Robert de Courtenay                     </td><td style=\"text-align: right;\">        1</td></tr>\n",
       "<tr><td style=\"text-align: right;\">     1001</td><td>même vue expo différente             </td><td style=\"text-align: right;\">       2</td><td>Chaire                                            </td><td style=\"text-align: right;\">        1</td></tr>\n",
       "<tr><td style=\"text-align: right;\">     1001</td><td>même vue expo différente             </td><td style=\"text-align: right;\">       2</td><td>Chaire                                            </td><td style=\"text-align: right;\">        1</td></tr>\n",
       "<tr><td style=\"text-align: right;\">     1155</td><td>inversible : même vue expo différente</td><td style=\"text-align: right;\">       1</td><td>Retable                                           </td><td style=\"text-align: right;\">        1</td></tr>\n",
       "</table>"
      ],
      "text/latex": [
       "\\begin{tabular}{rlrlr}\n",
       "\\toprule\n",
       "   article & remarques                             &   nbrcli & descdet                                            &   idserie \\\\\n",
       "\\midrule\n",
       "       803 & même vue expo différente              &        2 & Tableau sur retable                                &         1 \\\\\n",
       "       871 & même vue expo différente              &        1 & Tribune et orgue                                   &         1 \\\\\n",
       "       871 & même vue expo différente              &        1 & Tribune et orgue                                   &         1 \\\\\n",
       "       926 & même vue expo différente              &        2 & Trésors de la Cathédrale, petit reliquaire à roues &         1 \\\\\n",
       "       927 & même vue expo différente              &        1 & Crosse de Manassés de Seignelay                    &         1 \\\\\n",
       "       929 & même vue expo différente              &        2 & Médaillon de gants de Raoul Grosparmi              &         1 \\\\\n",
       "       930 & même vue expo différente              &        1 & Crosse de Robert de Courtenay                      &         1 \\\\\n",
       "      1001 & même vue expo différente              &        2 & Chaire                                             &         1 \\\\\n",
       "      1001 & même vue expo différente              &        2 & Chaire                                             &         1 \\\\\n",
       "      1155 & inversible : même vue expo différente &        1 & Retable                                            &         1 \\\\\n",
       "\\bottomrule\n",
       "\\end{tabular}"
      ],
      "text/plain": [
       "  article  remarques                                nbrcli  descdet                                               idserie\n",
       "---------  -------------------------------------  --------  --------------------------------------------------  ---------\n",
       "      803  même vue expo différente                      2  Tableau sur retable                                         1\n",
       "      871  même vue expo différente                      1  Tribune et orgue                                            1\n",
       "      871  même vue expo différente                      1  Tribune et orgue                                            1\n",
       "      926  même vue expo différente                      2  Trésors de la Cathédrale, petit reliquaire à roues          1\n",
       "      927  même vue expo différente                      1  Crosse de Manassés de Seignelay                             1\n",
       "      929  même vue expo différente                      2  Médaillon de gants de Raoul Grosparmi                       1\n",
       "      930  même vue expo différente                      1  Crosse de Robert de Courtenay                               1\n",
       "     1001  même vue expo différente                      2  Chaire                                                      1\n",
       "     1001  même vue expo différente                      2  Chaire                                                      1\n",
       "     1155  inversible : même vue expo différente         1  Retable                                                     1"
      ]
     },
     "metadata": {},
     "output_type": "display_data"
    }
   ],
   "source": [
    "/*====================================================\n",
    " * Afficher que les photos en couleur (view)\n",
    " *====================================================*/\n",
    "DROP VIEW IF EXISTS photo_en_couleur;\n",
    "CREATE OR REPLACE VIEW photo_en_couleur AS\n",
    "    SELECT Article, Remarques, NbrCli, DescDet, idSerie  \n",
    "    FROM Photo P JOIN Document D ON P.Article = D.PhotoArticle\n",
    "    WHERE d.C_G = 'CLR';\n",
    "\n",
    "SELECT * FROM photo_en_couleur LIMIT 10;"
   ]
  },
  {
   "cell_type": "markdown",
   "metadata": {},
   "source": [
    "## Afficher que les photos en noir et blanc (view)"
   ]
  },
  {
   "cell_type": "code",
   "execution_count": 5,
   "metadata": {
    "ExecuteTime": {
     "end_time": "2019-02-01T16:12:39.683829Z",
     "start_time": "2019-02-01T16:12:39.615457Z"
    }
   },
   "outputs": [
    {
     "name": "stdout",
     "output_type": "stream",
     "text": [
      "10 row(s) returned.\n"
     ]
    },
    {
     "data": {
      "text/html": [
       "<table>\n",
       "<tr><th style=\"text-align: right;\">  article</th><th>remarques               </th><th style=\"text-align: right;\">  nbrcli</th><th>descdet        </th><th style=\"text-align: right;\">  idserie</th></tr>\n",
       "<tr><td style=\"text-align: right;\">      715</td><td>                        </td><td style=\"text-align: right;\">       1</td><td>Rez-de-chaussée</td><td style=\"text-align: right;\">        1</td></tr>\n",
       "<tr><td style=\"text-align: right;\">     7514</td><td>                        </td><td style=\"text-align: right;\">       1</td><td>               </td><td style=\"text-align: right;\">        1</td></tr>\n",
       "<tr><td style=\"text-align: right;\">    13834</td><td>                        </td><td style=\"text-align: right;\">       1</td><td>               </td><td style=\"text-align: right;\">        1</td></tr>\n",
       "<tr><td style=\"text-align: right;\">     4228</td><td>                        </td><td style=\"text-align: right;\">       1</td><td>               </td><td style=\"text-align: right;\">        1</td></tr>\n",
       "<tr><td style=\"text-align: right;\">    21884</td><td>                        </td><td style=\"text-align: right;\">       1</td><td>               </td><td style=\"text-align: right;\">        1</td></tr>\n",
       "<tr><td style=\"text-align: right;\">    13989</td><td>                        </td><td style=\"text-align: right;\">       1</td><td>               </td><td style=\"text-align: right;\">        1</td></tr>\n",
       "<tr><td style=\"text-align: right;\">    12276</td><td>                        </td><td style=\"text-align: right;\">       1</td><td>               </td><td style=\"text-align: right;\">        1</td></tr>\n",
       "<tr><td style=\"text-align: right;\">    25598</td><td>même vue expo différente</td><td style=\"text-align: right;\">       1</td><td>               </td><td style=\"text-align: right;\">        1</td></tr>\n",
       "<tr><td style=\"text-align: right;\">    24900</td><td>                        </td><td style=\"text-align: right;\">       1</td><td>               </td><td style=\"text-align: right;\">        1</td></tr>\n",
       "<tr><td style=\"text-align: right;\">    13590</td><td>                        </td><td style=\"text-align: right;\">       1</td><td>               </td><td style=\"text-align: right;\">        1</td></tr>\n",
       "</table>"
      ],
      "text/latex": [
       "\\begin{tabular}{rlrlr}\n",
       "\\toprule\n",
       "   article & remarques                &   nbrcli & descdet         &   idserie \\\\\n",
       "\\midrule\n",
       "       715 &                          &        1 & Rez-de-chaussée &         1 \\\\\n",
       "      7514 &                          &        1 &                 &         1 \\\\\n",
       "     13834 &                          &        1 &                 &         1 \\\\\n",
       "      4228 &                          &        1 &                 &         1 \\\\\n",
       "     21884 &                          &        1 &                 &         1 \\\\\n",
       "     13989 &                          &        1 &                 &         1 \\\\\n",
       "     12276 &                          &        1 &                 &         1 \\\\\n",
       "     25598 & même vue expo différente &        1 &                 &         1 \\\\\n",
       "     24900 &                          &        1 &                 &         1 \\\\\n",
       "     13590 &                          &        1 &                 &         1 \\\\\n",
       "\\bottomrule\n",
       "\\end{tabular}"
      ],
      "text/plain": [
       "  article  remarques                   nbrcli  descdet            idserie\n",
       "---------  ------------------------  --------  ---------------  ---------\n",
       "      715                                   1  Rez-de-chaussée          1\n",
       "     7514                                   1                           1\n",
       "    13834                                   1                           1\n",
       "     4228                                   1                           1\n",
       "    21884                                   1                           1\n",
       "    13989                                   1                           1\n",
       "    12276                                   1                           1\n",
       "    25598  même vue expo différente         1                           1\n",
       "    24900                                   1                           1\n",
       "    13590                                   1                           1"
      ]
     },
     "metadata": {},
     "output_type": "display_data"
    }
   ],
   "source": [
    "/*====================================================\n",
    " * Afficher que les photos en noir et blanc (view)\n",
    " *====================================================*/\n",
    "DROP VIEW IF EXISTS photo_en_noirblanc;\n",
    "CREATE OR REPLACE VIEW photo_en_noirblanc AS\n",
    "    SELECT DISTINCT(Article), Remarques, NbrCli, DescDet, idSerie  \n",
    "    FROM Photo P JOIN Document D ON P.Article = D.PhotoArticle\n",
    "    WHERE d.C_G = 'GSC';\n",
    "\n",
    "SELECT * FROM photo_en_noirblanc LIMIT 10;"
   ]
  },
  {
   "cell_type": "markdown",
   "metadata": {},
   "source": [
    "## Les photos qui ont un fichier numérique.(view)"
   ]
  },
  {
   "cell_type": "code",
   "execution_count": 6,
   "metadata": {
    "ExecuteTime": {
     "end_time": "2019-02-01T16:12:39.717066Z",
     "start_time": "2019-02-01T16:12:39.685814Z"
    }
   },
   "outputs": [
    {
     "name": "stdout",
     "output_type": "stream",
     "text": [
      "10 row(s) returned.\n"
     ]
    },
    {
     "data": {
      "text/html": [
       "<table>\n",
       "<tr><th style=\"text-align: right;\">  article</th><th style=\"text-align: right;\">  remarques</th><th style=\"text-align: right;\">  nbrcli</th><th style=\"text-align: right;\">  descdet</th><th style=\"text-align: right;\">  idserie</th></tr>\n",
       "<tr><td style=\"text-align: right;\">     7514</td><td style=\"text-align: right;\">           </td><td style=\"text-align: right;\">       1</td><td style=\"text-align: right;\">         </td><td style=\"text-align: right;\">        1</td></tr>\n",
       "<tr><td style=\"text-align: right;\">     4228</td><td style=\"text-align: right;\">           </td><td style=\"text-align: right;\">       1</td><td style=\"text-align: right;\">         </td><td style=\"text-align: right;\">        1</td></tr>\n",
       "<tr><td style=\"text-align: right;\">    34353</td><td style=\"text-align: right;\">           </td><td style=\"text-align: right;\">       1</td><td style=\"text-align: right;\">         </td><td style=\"text-align: right;\">        1</td></tr>\n",
       "<tr><td style=\"text-align: right;\">    23853</td><td style=\"text-align: right;\">           </td><td style=\"text-align: right;\">       1</td><td style=\"text-align: right;\">         </td><td style=\"text-align: right;\">        1</td></tr>\n",
       "<tr><td style=\"text-align: right;\">    24795</td><td style=\"text-align: right;\">           </td><td style=\"text-align: right;\">       1</td><td style=\"text-align: right;\">         </td><td style=\"text-align: right;\">        1</td></tr>\n",
       "<tr><td style=\"text-align: right;\">     5839</td><td style=\"text-align: right;\">           </td><td style=\"text-align: right;\">       1</td><td style=\"text-align: right;\">         </td><td style=\"text-align: right;\">        1</td></tr>\n",
       "<tr><td style=\"text-align: right;\">    11918</td><td style=\"text-align: right;\">           </td><td style=\"text-align: right;\">       1</td><td style=\"text-align: right;\">         </td><td style=\"text-align: right;\">        1</td></tr>\n",
       "<tr><td style=\"text-align: right;\">     9882</td><td style=\"text-align: right;\">           </td><td style=\"text-align: right;\">       1</td><td style=\"text-align: right;\">         </td><td style=\"text-align: right;\">        1</td></tr>\n",
       "<tr><td style=\"text-align: right;\">    25236</td><td style=\"text-align: right;\">           </td><td style=\"text-align: right;\">       1</td><td style=\"text-align: right;\">         </td><td style=\"text-align: right;\">        1</td></tr>\n",
       "<tr><td style=\"text-align: right;\">    12226</td><td style=\"text-align: right;\">           </td><td style=\"text-align: right;\">       1</td><td style=\"text-align: right;\">         </td><td style=\"text-align: right;\">        1</td></tr>\n",
       "</table>"
      ],
      "text/latex": [
       "\\begin{tabular}{rrrrr}\n",
       "\\toprule\n",
       "   article &   remarques &   nbrcli &   descdet &   idserie \\\\\n",
       "\\midrule\n",
       "      7514 &             &        1 &           &         1 \\\\\n",
       "      4228 &             &        1 &           &         1 \\\\\n",
       "     34353 &             &        1 &           &         1 \\\\\n",
       "     23853 &             &        1 &           &         1 \\\\\n",
       "     24795 &             &        1 &           &         1 \\\\\n",
       "      5839 &             &        1 &           &         1 \\\\\n",
       "     11918 &             &        1 &           &         1 \\\\\n",
       "      9882 &             &        1 &           &         1 \\\\\n",
       "     25236 &             &        1 &           &         1 \\\\\n",
       "     12226 &             &        1 &           &         1 \\\\\n",
       "\\bottomrule\n",
       "\\end{tabular}"
      ],
      "text/plain": [
       "  article    remarques    nbrcli    descdet    idserie\n",
       "---------  -----------  --------  ---------  ---------\n",
       "     7514                      1                     1\n",
       "     4228                      1                     1\n",
       "    34353                      1                     1\n",
       "    23853                      1                     1\n",
       "    24795                      1                     1\n",
       "     5839                      1                     1\n",
       "    11918                      1                     1\n",
       "     9882                      1                     1\n",
       "    25236                      1                     1\n",
       "    12226                      1                     1"
      ]
     },
     "metadata": {},
     "output_type": "display_data"
    }
   ],
   "source": [
    "/*====================================================\n",
    " * Les photos qui ont un fichier numérique.(view)\n",
    " *====================================================*/ \n",
    "CREATE OR REPLACE VIEW view_photo_numeric AS\n",
    "    SELECT DISTINCT(Article), Remarques, NbrCli, DescDet, idSerie  \n",
    "    FROM Photo P JOIN Document D ON P.Article = D.PhotoArticle\n",
    "    WHERE d.FicNum IS NOT NULL;\n",
    "\n",
    "SELECT * FROM view_photo_numeric LIMIT 10;"
   ]
  },
  {
   "cell_type": "markdown",
   "metadata": {},
   "source": [
    "## Les photos qui correspondent au fichier donné.(fonction)"
   ]
  },
  {
   "cell_type": "code",
   "execution_count": 7,
   "metadata": {
    "ExecuteTime": {
     "end_time": "2019-02-01T16:12:39.741982Z",
     "start_time": "2019-02-01T16:12:39.718387Z"
    }
   },
   "outputs": [
    {
     "name": "stdout",
     "output_type": "stream",
     "text": [
      "2 row(s) returned.\n"
     ]
    },
    {
     "data": {
      "text/html": [
       "<table>\n",
       "<tr><th style=\"text-align: right;\">  article</th><th>ficnum               </th><th style=\"text-align: right;\">  nbrcli</th><th>n_v  </th><th>c_g  </th><th style=\"text-align: right;\">  idserie</th></tr>\n",
       "<tr><td style=\"text-align: right;\">        1</td><td>FRAD045_CLVUE000001_H</td><td style=\"text-align: right;\">       3</td><td>NEG  </td><td>GSC  </td><td style=\"text-align: right;\">        1</td></tr>\n",
       "<tr><td style=\"text-align: right;\">        1</td><td>FRAD045_CLVUE000001_H</td><td style=\"text-align: right;\">       3</td><td>NEG  </td><td>GSC  </td><td style=\"text-align: right;\">        1</td></tr>\n",
       "</table>"
      ],
      "text/latex": [
       "\\begin{tabular}{rlrllr}\n",
       "\\toprule\n",
       "   article & ficnum                &   nbrcli & n\\_v   & c\\_g   &   idserie \\\\\n",
       "\\midrule\n",
       "         1 & FRAD045\\_CLVUE000001\\_H &        3 & NEG   & GSC   &         1 \\\\\n",
       "         1 & FRAD045\\_CLVUE000001\\_H &        3 & NEG   & GSC   &         1 \\\\\n",
       "\\bottomrule\n",
       "\\end{tabular}"
      ],
      "text/plain": [
       "  article  ficnum                   nbrcli  n_v    c_g      idserie\n",
       "---------  ---------------------  --------  -----  -----  ---------\n",
       "        1  FRAD045_CLVUE000001_H         3  NEG    GSC            1\n",
       "        1  FRAD045_CLVUE000001_H         3  NEG    GSC            1"
      ]
     },
     "metadata": {},
     "output_type": "display_data"
    }
   ],
   "source": [
    "/*====================================================\n",
    " * Les photos qui correspondent au fichier donné.(fonction)\n",
    " *====================================================*/ \n",
    "DROP FUNCTION IF EXISTS rechercher_cliche_photo;\n",
    "CREATE OR REPLACE FUNCTION rechercher_cliche_photo(varchar)\n",
    "    RETURNS TABLE(article integer, ficnum varchar, nbrcli integer, N_V varchar, C_G varchar, idserie integer)     \n",
    "    LANGUAGE 'plpgsql'\n",
    "AS $BODY$\n",
    "    BEGIN\n",
    "        RETURN QUERY(\n",
    "            select P.Article, D.ficnum, P.NbrCli, D.N_V, D.C_G, P.idSerie from Photo P\n",
    "            JOIN document D ON P.article = D.photoarticle\n",
    "            where  D.ficnum= $1\n",
    "        );\n",
    "    END; \n",
    "$BODY$;\n",
    "\n",
    "SELECT * FROM rechercher_cliche_photo('FRAD045_CLVUE000001_H');"
   ]
  },
  {
   "cell_type": "markdown",
   "metadata": {},
   "source": [
    "## Chercher un certain type d’oeuvre."
   ]
  },
  {
   "cell_type": "code",
   "execution_count": 8,
   "metadata": {
    "ExecuteTime": {
     "end_time": "2019-02-01T16:12:39.767822Z",
     "start_time": "2019-02-01T16:12:39.744081Z"
    }
   },
   "outputs": [
    {
     "name": "stdout",
     "output_type": "stream",
     "text": [
      "10 row(s) returned.\n"
     ]
    },
    {
     "data": {
      "text/html": [
       "<table>\n",
       "<tr><th style=\"text-align: right;\">  article</th><th style=\"text-align: right;\">  ficnum</th><th style=\"text-align: right;\">  nbrcli</th><th>n_v  </th><th>c_g  </th><th style=\"text-align: right;\">  idserie</th></tr>\n",
       "<tr><td style=\"text-align: right;\">      134</td><td style=\"text-align: right;\">        </td><td style=\"text-align: right;\">       1</td><td>NEG  </td><td>GSC  </td><td style=\"text-align: right;\">        1</td></tr>\n",
       "<tr><td style=\"text-align: right;\">      135</td><td style=\"text-align: right;\">        </td><td style=\"text-align: right;\">       1</td><td>NEG  </td><td>GSC  </td><td style=\"text-align: right;\">        1</td></tr>\n",
       "<tr><td style=\"text-align: right;\">      397</td><td style=\"text-align: right;\">        </td><td style=\"text-align: right;\">       1</td><td>NEG  </td><td>GSC  </td><td style=\"text-align: right;\">        1</td></tr>\n",
       "<tr><td style=\"text-align: right;\">      398</td><td style=\"text-align: right;\">        </td><td style=\"text-align: right;\">       1</td><td>NEG  </td><td>GSC  </td><td style=\"text-align: right;\">        1</td></tr>\n",
       "<tr><td style=\"text-align: right;\">      915</td><td style=\"text-align: right;\">        </td><td style=\"text-align: right;\">       1</td><td>NEG  </td><td>GSC  </td><td style=\"text-align: right;\">        1</td></tr>\n",
       "<tr><td style=\"text-align: right;\">      916</td><td style=\"text-align: right;\">        </td><td style=\"text-align: right;\">       1</td><td>NEG  </td><td>GSC  </td><td style=\"text-align: right;\">        1</td></tr>\n",
       "<tr><td style=\"text-align: right;\">      920</td><td style=\"text-align: right;\">        </td><td style=\"text-align: right;\">       1</td><td>NEG  </td><td>GSC  </td><td style=\"text-align: right;\">        1</td></tr>\n",
       "<tr><td style=\"text-align: right;\">      921</td><td style=\"text-align: right;\">        </td><td style=\"text-align: right;\">       2</td><td>NEG  </td><td>GSC  </td><td style=\"text-align: right;\">        1</td></tr>\n",
       "<tr><td style=\"text-align: right;\">      922</td><td style=\"text-align: right;\">        </td><td style=\"text-align: right;\">       2</td><td>NEG  </td><td>GSC  </td><td style=\"text-align: right;\">        1</td></tr>\n",
       "<tr><td style=\"text-align: right;\">      923</td><td style=\"text-align: right;\">        </td><td style=\"text-align: right;\">       1</td><td>NEG  </td><td>GSC  </td><td style=\"text-align: right;\">        1</td></tr>\n",
       "</table>"
      ],
      "text/latex": [
       "\\begin{tabular}{rrrllr}\n",
       "\\toprule\n",
       "   article &   ficnum &   nbrcli & n\\_v   & c\\_g   &   idserie \\\\\n",
       "\\midrule\n",
       "       134 &          &        1 & NEG   & GSC   &         1 \\\\\n",
       "       135 &          &        1 & NEG   & GSC   &         1 \\\\\n",
       "       397 &          &        1 & NEG   & GSC   &         1 \\\\\n",
       "       398 &          &        1 & NEG   & GSC   &         1 \\\\\n",
       "       915 &          &        1 & NEG   & GSC   &         1 \\\\\n",
       "       916 &          &        1 & NEG   & GSC   &         1 \\\\\n",
       "       920 &          &        1 & NEG   & GSC   &         1 \\\\\n",
       "       921 &          &        2 & NEG   & GSC   &         1 \\\\\n",
       "       922 &          &        2 & NEG   & GSC   &         1 \\\\\n",
       "       923 &          &        1 & NEG   & GSC   &         1 \\\\\n",
       "\\bottomrule\n",
       "\\end{tabular}"
      ],
      "text/plain": [
       "  article    ficnum    nbrcli  n_v    c_g      idserie\n",
       "---------  --------  --------  -----  -----  ---------\n",
       "      134                   1  NEG    GSC            1\n",
       "      135                   1  NEG    GSC            1\n",
       "      397                   1  NEG    GSC            1\n",
       "      398                   1  NEG    GSC            1\n",
       "      915                   1  NEG    GSC            1\n",
       "      916                   1  NEG    GSC            1\n",
       "      920                   1  NEG    GSC            1\n",
       "      921                   2  NEG    GSC            1\n",
       "      922                   2  NEG    GSC            1\n",
       "      923                   1  NEG    GSC            1"
      ]
     },
     "metadata": {},
     "output_type": "display_data"
    }
   ],
   "source": [
    "/*====================================================\n",
    " * Chercher un certain type d’oeuvre.\n",
    " *====================================================*/ \n",
    "DROP FUNCTION IF EXISTS rechercher_type_oeuvre;\n",
    "CREATE OR REPLACE FUNCTION rechercher_type_oeuvre(varchar)\n",
    "RETURNS TABLE(article integer, ficnum varchar, nbrcli integer, N_V varchar, C_G varchar, idserie integer)    \n",
    "AS $$\n",
    "    BEGIN\n",
    "        RETURN QUERY( \n",
    "            select DISTINCT(P.Article), D.ficnum,P.NbrCli,D.N_V,D.C_G,P.idSerie from Photo P\n",
    "            join Document D on D.PhotoArticle=P.Article\n",
    "            join IndexPersonne I on D.idoeuvre=I.idoeuvre\n",
    "            join TypeOeuvre T on I.typeOeuvre=T.idType\n",
    "            where T.NomType = $1\n",
    "        );\n",
    "    END;\n",
    "$$ LANGUAGE plpgsql;\n",
    "\n",
    "select * from rechercher_type_oeuvre('statue') LIMIT 10;"
   ]
  },
  {
   "cell_type": "markdown",
   "metadata": {},
   "source": [
    "## Rechercher les photos qui appartiennent à une série."
   ]
  },
  {
   "cell_type": "code",
   "execution_count": 9,
   "metadata": {
    "ExecuteTime": {
     "end_time": "2019-02-01T16:12:39.976011Z",
     "start_time": "2019-02-01T16:12:39.769603Z"
    }
   },
   "outputs": [
    {
     "name": "stdout",
     "output_type": "stream",
     "text": [
      "10 row(s) returned.\n"
     ]
    },
    {
     "data": {
      "text/html": [
       "<table>\n",
       "<tr><th style=\"text-align: right;\">  article</th><th>ficnum               </th><th style=\"text-align: right;\">  nbrcli</th><th>n_v  </th><th>c_g  </th><th style=\"text-align: right;\">  idserie</th></tr>\n",
       "<tr><td style=\"text-align: right;\">        1</td><td>FRAD045_CLVUE000001_H</td><td style=\"text-align: right;\">       3</td><td>NEG  </td><td>GSC  </td><td style=\"text-align: right;\">        1</td></tr>\n",
       "<tr><td style=\"text-align: right;\">        2</td><td>                     </td><td style=\"text-align: right;\">       1</td><td>NEG  </td><td>GSC  </td><td style=\"text-align: right;\">        1</td></tr>\n",
       "<tr><td style=\"text-align: right;\">        3</td><td>                     </td><td style=\"text-align: right;\">       1</td><td>NEG  </td><td>GSC  </td><td style=\"text-align: right;\">        1</td></tr>\n",
       "<tr><td style=\"text-align: right;\">        4</td><td>                     </td><td style=\"text-align: right;\">       4</td><td>NEG  </td><td>GSC  </td><td style=\"text-align: right;\">        1</td></tr>\n",
       "<tr><td style=\"text-align: right;\">        5</td><td>                     </td><td style=\"text-align: right;\">       1</td><td>NEG  </td><td>GSC  </td><td style=\"text-align: right;\">        1</td></tr>\n",
       "<tr><td style=\"text-align: right;\">        6</td><td>                     </td><td style=\"text-align: right;\">       1</td><td>NEG  </td><td>GSC  </td><td style=\"text-align: right;\">        1</td></tr>\n",
       "<tr><td style=\"text-align: right;\">        7</td><td>                     </td><td style=\"text-align: right;\">       1</td><td>NEG  </td><td>GSC  </td><td style=\"text-align: right;\">        1</td></tr>\n",
       "<tr><td style=\"text-align: right;\">        8</td><td>                     </td><td style=\"text-align: right;\">       2</td><td>NEG  </td><td>GSC  </td><td style=\"text-align: right;\">        1</td></tr>\n",
       "<tr><td style=\"text-align: right;\">        9</td><td>                     </td><td style=\"text-align: right;\">       1</td><td>NEG  </td><td>GSC  </td><td style=\"text-align: right;\">        1</td></tr>\n",
       "<tr><td style=\"text-align: right;\">       10</td><td>                     </td><td style=\"text-align: right;\">       1</td><td>NEG  </td><td>GSC  </td><td style=\"text-align: right;\">        1</td></tr>\n",
       "</table>"
      ],
      "text/latex": [
       "\\begin{tabular}{rlrllr}\n",
       "\\toprule\n",
       "   article & ficnum                &   nbrcli & n\\_v   & c\\_g   &   idserie \\\\\n",
       "\\midrule\n",
       "         1 & FRAD045\\_CLVUE000001\\_H &        3 & NEG   & GSC   &         1 \\\\\n",
       "         2 &                       &        1 & NEG   & GSC   &         1 \\\\\n",
       "         3 &                       &        1 & NEG   & GSC   &         1 \\\\\n",
       "         4 &                       &        4 & NEG   & GSC   &         1 \\\\\n",
       "         5 &                       &        1 & NEG   & GSC   &         1 \\\\\n",
       "         6 &                       &        1 & NEG   & GSC   &         1 \\\\\n",
       "         7 &                       &        1 & NEG   & GSC   &         1 \\\\\n",
       "         8 &                       &        2 & NEG   & GSC   &         1 \\\\\n",
       "         9 &                       &        1 & NEG   & GSC   &         1 \\\\\n",
       "        10 &                       &        1 & NEG   & GSC   &         1 \\\\\n",
       "\\bottomrule\n",
       "\\end{tabular}"
      ],
      "text/plain": [
       "  article  ficnum                   nbrcli  n_v    c_g      idserie\n",
       "---------  ---------------------  --------  -----  -----  ---------\n",
       "        1  FRAD045_CLVUE000001_H         3  NEG    GSC            1\n",
       "        2                                1  NEG    GSC            1\n",
       "        3                                1  NEG    GSC            1\n",
       "        4                                4  NEG    GSC            1\n",
       "        5                                1  NEG    GSC            1\n",
       "        6                                1  NEG    GSC            1\n",
       "        7                                1  NEG    GSC            1\n",
       "        8                                2  NEG    GSC            1\n",
       "        9                                1  NEG    GSC            1\n",
       "       10                                1  NEG    GSC            1"
      ]
     },
     "metadata": {},
     "output_type": "display_data"
    }
   ],
   "source": [
    "/*====================================================\n",
    " * Rechercher les photos qui appartiennent à une série.\n",
    " *====================================================*/ \n",
    "DROP FUNCTION IF EXISTS rechercher_serie_photo;\n",
    "CREATE OR REPLACE FUNCTION rechercher_serie_photo(varchar)\n",
    "RETURNS TABLE(article integer, ficnum varchar, nbrcli integer, N_V varchar, C_G varchar, idserie integer)    \n",
    "AS $$\n",
    "    BEGIN\n",
    "        RETURN QUERY(\n",
    "            select DISTINCT(P.Article), D.ficnum, P.NbrCli, D.N_V, D.C_G, P.idSerie from Photo P\n",
    "            join Document D on P.Article=D.PhotoArticle\n",
    "            join Serie S on S.IdSerie=P.IdSerie\n",
    "            where S.nomSerie = $1\n",
    "        );\n",
    "        END;\n",
    "$$ LANGUAGE plpgsql;\n",
    "\n",
    "select * from rechercher_serie_photo('CLVUE') LIMIT 10;"
   ]
  },
  {
   "cell_type": "markdown",
   "metadata": {},
   "source": [
    "## Les photos correspondant à un index iconographique précis"
   ]
  },
  {
   "cell_type": "code",
   "execution_count": 10,
   "metadata": {
    "ExecuteTime": {
     "end_time": "2019-02-01T16:12:40.009895Z",
     "start_time": "2019-02-01T16:12:39.977834Z"
    }
   },
   "outputs": [
    {
     "name": "stdout",
     "output_type": "stream",
     "text": [
      "10 row(s) returned.\n"
     ]
    },
    {
     "data": {
      "text/html": [
       "<table>\n",
       "<tr><th style=\"text-align: right;\">  article</th><th>ficnum               </th><th style=\"text-align: right;\">  nbrcli</th><th>n_v  </th><th>c_g  </th><th style=\"text-align: right;\">  idserie</th></tr>\n",
       "<tr><td style=\"text-align: right;\">        1</td><td>FRAD045_CLVUE000001_H</td><td style=\"text-align: right;\">       3</td><td>NEG  </td><td>GSC  </td><td style=\"text-align: right;\">        1</td></tr>\n",
       "<tr><td style=\"text-align: right;\">        2</td><td>                     </td><td style=\"text-align: right;\">       1</td><td>NEG  </td><td>GSC  </td><td style=\"text-align: right;\">        1</td></tr>\n",
       "<tr><td style=\"text-align: right;\">       16</td><td>                     </td><td style=\"text-align: right;\">       1</td><td>NEG  </td><td>GSC  </td><td style=\"text-align: right;\">        1</td></tr>\n",
       "<tr><td style=\"text-align: right;\">       21</td><td>                     </td><td style=\"text-align: right;\">       1</td><td>NEG  </td><td>GSC  </td><td style=\"text-align: right;\">        1</td></tr>\n",
       "<tr><td style=\"text-align: right;\">       23</td><td>                     </td><td style=\"text-align: right;\">       1</td><td>NEG  </td><td>GSC  </td><td style=\"text-align: right;\">        1</td></tr>\n",
       "<tr><td style=\"text-align: right;\">       30</td><td>                     </td><td style=\"text-align: right;\">       1</td><td>NEG  </td><td>GSC  </td><td style=\"text-align: right;\">        1</td></tr>\n",
       "<tr><td style=\"text-align: right;\">       54</td><td>                     </td><td style=\"text-align: right;\">       4</td><td>NEG  </td><td>GSC  </td><td style=\"text-align: right;\">        1</td></tr>\n",
       "<tr><td style=\"text-align: right;\">      272</td><td>                     </td><td style=\"text-align: right;\">       1</td><td>NEG  </td><td>GSC  </td><td style=\"text-align: right;\">        1</td></tr>\n",
       "<tr><td style=\"text-align: right;\">      273</td><td>                     </td><td style=\"text-align: right;\">       1</td><td>NEG  </td><td>GSC  </td><td style=\"text-align: right;\">        1</td></tr>\n",
       "<tr><td style=\"text-align: right;\">      326</td><td>                     </td><td style=\"text-align: right;\">       1</td><td>NEG  </td><td>GSC  </td><td style=\"text-align: right;\">        1</td></tr>\n",
       "</table>"
      ],
      "text/latex": [
       "\\begin{tabular}{rlrllr}\n",
       "\\toprule\n",
       "   article & ficnum                &   nbrcli & n\\_v   & c\\_g   &   idserie \\\\\n",
       "\\midrule\n",
       "         1 & FRAD045\\_CLVUE000001\\_H &        3 & NEG   & GSC   &         1 \\\\\n",
       "         2 &                       &        1 & NEG   & GSC   &         1 \\\\\n",
       "        16 &                       &        1 & NEG   & GSC   &         1 \\\\\n",
       "        21 &                       &        1 & NEG   & GSC   &         1 \\\\\n",
       "        23 &                       &        1 & NEG   & GSC   &         1 \\\\\n",
       "        30 &                       &        1 & NEG   & GSC   &         1 \\\\\n",
       "        54 &                       &        4 & NEG   & GSC   &         1 \\\\\n",
       "       272 &                       &        1 & NEG   & GSC   &         1 \\\\\n",
       "       273 &                       &        1 & NEG   & GSC   &         1 \\\\\n",
       "       326 &                       &        1 & NEG   & GSC   &         1 \\\\\n",
       "\\bottomrule\n",
       "\\end{tabular}"
      ],
      "text/plain": [
       "  article  ficnum                   nbrcli  n_v    c_g      idserie\n",
       "---------  ---------------------  --------  -----  -----  ---------\n",
       "        1  FRAD045_CLVUE000001_H         3  NEG    GSC            1\n",
       "        2                                1  NEG    GSC            1\n",
       "       16                                1  NEG    GSC            1\n",
       "       21                                1  NEG    GSC            1\n",
       "       23                                1  NEG    GSC            1\n",
       "       30                                1  NEG    GSC            1\n",
       "       54                                4  NEG    GSC            1\n",
       "      272                                1  NEG    GSC            1\n",
       "      273                                1  NEG    GSC            1\n",
       "      326                                1  NEG    GSC            1"
      ]
     },
     "metadata": {},
     "output_type": "display_data"
    }
   ],
   "source": [
    "/*====================================================\n",
    " * Les photos correspondant à un index iconographique précis\n",
    " *====================================================*/\n",
    "CREATE OR REPLACE FUNCTION index_photo(varchar)\n",
    "RETURNS TABLE(article integer, ficnum varchar, nbrcli integer, N_V varchar, C_G varchar, idserie integer)    \n",
    "  AS $$\n",
    "    BEGIN\n",
    "RETURN QUERY\n",
    "\n",
    "select P.Article,D.ficnum,P.NbrCli,D.N_V,D.C_G,P.idSerie from Photo P\n",
    "join Document D on P.Article=D.PhotoArticle\n",
    "join IndexIconographique I on I.IdIco = D.idico\n",
    "where I.idx_ico = $1;\n",
    "    END;\n",
    "$$ LANGUAGE plpgsql;\n",
    "\n",
    "select * from index_photo('paysage urbain') LIMIT 10;"
   ]
  },
  {
   "cell_type": "markdown",
   "metadata": {},
   "source": [
    "## Le nombre de photos dont on ne connait pas la date"
   ]
  },
  {
   "cell_type": "code",
   "execution_count": 11,
   "metadata": {
    "ExecuteTime": {
     "end_time": "2019-02-01T16:12:40.042095Z",
     "start_time": "2019-02-01T16:12:40.011850Z"
    }
   },
   "outputs": [
    {
     "name": "stdout",
     "output_type": "stream",
     "text": [
      "1 row(s) returned.\n",
      "NOTICE:  drop cascades to view view_statistique\n"
     ]
    },
    {
     "data": {
      "text/html": [
       "<table>\n",
       "<tr><th style=\"text-align: right;\">  count</th></tr>\n",
       "<tr><td style=\"text-align: right;\">    394</td></tr>\n",
       "</table>"
      ],
      "text/latex": [
       "\\begin{tabular}{r}\n",
       "\\toprule\n",
       "   count \\\\\n",
       "\\midrule\n",
       "     394 \\\\\n",
       "\\bottomrule\n",
       "\\end{tabular}"
      ],
      "text/plain": [
       "  count\n",
       "-------\n",
       "    394"
      ]
     },
     "metadata": {},
     "output_type": "display_data"
    }
   ],
   "source": [
    "/*====================================================\n",
    " * Le nombre de photos dont on ne connait pas la date\n",
    " *====================================================*/\n",
    "DROP FUNCTION IF EXISTS date_photo CASCADE;\n",
    "CREATE OR REPLACE FUNCTION date_photo()\n",
    "RETURNS TABLE(article integer, ficnum varchar, nbrcli integer, N_V varchar, C_G varchar, idserie integer)    \n",
    "  AS $$\n",
    "    BEGIN\n",
    "RETURN QUERY\n",
    "select distinct(P.Article),D.ficnum,P.NbrCli,D.N_V,D.C_G,P.idSerie from Photo P\n",
    "join Document D on P.Article=D.PhotoArticle\n",
    "where  D.iddate is Null;\n",
    "END;\n",
    "$$ LANGUAGE plpgsql;\n",
    "\n",
    "select COUNT(distinct article) from date_photo();"
   ]
  },
  {
   "cell_type": "markdown",
   "metadata": {},
   "source": [
    "## Le nombre de photos dont on ne connaît pas la ville"
   ]
  },
  {
   "cell_type": "code",
   "execution_count": 12,
   "metadata": {
    "ExecuteTime": {
     "end_time": "2019-02-01T16:12:40.075603Z",
     "start_time": "2019-02-01T16:12:40.043856Z"
    }
   },
   "outputs": [
    {
     "name": "stdout",
     "output_type": "stream",
     "text": [
      "1 row(s) returned.\n"
     ]
    },
    {
     "data": {
      "text/html": [
       "<table>\n",
       "<tr><th style=\"text-align: right;\">  count</th></tr>\n",
       "<tr><td style=\"text-align: right;\">    321</td></tr>\n",
       "</table>"
      ],
      "text/latex": [
       "\\begin{tabular}{r}\n",
       "\\toprule\n",
       "   count \\\\\n",
       "\\midrule\n",
       "     321 \\\\\n",
       "\\bottomrule\n",
       "\\end{tabular}"
      ],
      "text/plain": [
       "  count\n",
       "-------\n",
       "    321"
      ]
     },
     "metadata": {},
     "output_type": "display_data"
    }
   ],
   "source": [
    "/*====================================================\n",
    " * Le nombre de photos dont on ne connait pas la ville\n",
    " *====================================================*/\n",
    "drop function if exists ville_photo();\n",
    "CREATE OR REPLACE FUNCTION ville_photo()\n",
    "RETURNS TABLE(article integer, ficnum varchar, nbrcli integer, N_V varchar, C_G varchar, idserie integer) AS $$\n",
    "    BEGIN\n",
    "        RETURN QUERY\n",
    "            select P.Article,D.ficnum,P.NbrCli,D.N_V,D.C_G,P.idSerie from Photo P\n",
    "            join Document D on P.Article=D.PhotoArticle\n",
    "            where D.idville is Null;\n",
    "        END;\n",
    "$$ LANGUAGE plpgsql;\n",
    "\n",
    "select count(distinct article) from ville_photo();"
   ]
  },
  {
   "cell_type": "markdown",
   "metadata": {},
   "source": [
    "## Le nombre moyen de photo par ville"
   ]
  },
  {
   "cell_type": "code",
   "execution_count": 13,
   "metadata": {
    "ExecuteTime": {
     "end_time": "2019-02-01T16:12:40.208265Z",
     "start_time": "2019-02-01T16:12:40.077210Z"
    }
   },
   "outputs": [
    {
     "name": "stdout",
     "output_type": "stream",
     "text": [
      "1 row(s) returned.\n"
     ]
    },
    {
     "data": {
      "text/html": [
       "<table>\n",
       "<tr><th style=\"text-align: right;\">  func_avg_photo_ville</th></tr>\n",
       "<tr><td style=\"text-align: right;\">               83.0296</td></tr>\n",
       "</table>"
      ],
      "text/latex": [
       "\\begin{tabular}{r}\n",
       "\\toprule\n",
       "   func\\_avg\\_photo\\_ville \\\\\n",
       "\\midrule\n",
       "                83.0296 \\\\\n",
       "\\bottomrule\n",
       "\\end{tabular}"
      ],
      "text/plain": [
       "  func_avg_photo_ville\n",
       "----------------------\n",
       "               83.0296"
      ]
     },
     "metadata": {},
     "output_type": "display_data"
    }
   ],
   "source": [
    "/*====================================================\n",
    " * Le nombre moyen de photo par ville\n",
    " *====================================================*/\n",
    "DROP FUNCTION IF EXISTS func_avg_cliche_ville CASCADE;\n",
    "CREATE OR REPLACE FUNCTION func_avg_photo_ville()\n",
    "RETURNS float AS $$\n",
    "    BEGIN\n",
    "        RETURN (\n",
    "            WITH subquery AS (SELECT NomVille, COUNT(DISTINCT PhotoArticle) as nbPhoto\n",
    "            FROM Document d, Ville v\n",
    "            WHERE d.idVille = v.idVille\n",
    "            GROUP BY NomVille)\n",
    "            SELECT AVG(nbPhoto) from subquery\n",
    "        );\n",
    "    END;\n",
    "$$ language plpgsql;\n",
    "\n",
    "SELECT func_avg_photo_ville();"
   ]
  },
  {
   "cell_type": "markdown",
   "metadata": {},
   "source": [
    "## Le nombre moyen de cliché par ville"
   ]
  },
  {
   "cell_type": "code",
   "execution_count": 14,
   "metadata": {
    "ExecuteTime": {
     "end_time": "2019-02-01T16:12:40.266955Z",
     "start_time": "2019-02-01T16:12:40.209711Z"
    }
   },
   "outputs": [
    {
     "name": "stdout",
     "output_type": "stream",
     "text": [
      "1 row(s) returned.\n",
      "NOTICE:  function func_avg_cliche_ville() does not exist, skipping\n"
     ]
    },
    {
     "data": {
      "text/html": [
       "<table>\n",
       "<tr><th style=\"text-align: right;\">  func_avg_cliche_ville</th></tr>\n",
       "<tr><td style=\"text-align: right;\">                360.386</td></tr>\n",
       "</table>"
      ],
      "text/latex": [
       "\\begin{tabular}{r}\n",
       "\\toprule\n",
       "   func\\_avg\\_cliche\\_ville \\\\\n",
       "\\midrule\n",
       "                 360.386 \\\\\n",
       "\\bottomrule\n",
       "\\end{tabular}"
      ],
      "text/plain": [
       "  func_avg_cliche_ville\n",
       "-----------------------\n",
       "                360.386"
      ]
     },
     "metadata": {},
     "output_type": "display_data"
    }
   ],
   "source": [
    "/*====================================================\n",
    " * Le nombre moyen de cliché par ville\n",
    " *====================================================*/\n",
    "drop function if exists func_avg_cliche_ville() CASCADE;\n",
    "CREATE OR REPLACE FUNCTION func_avg_cliche_ville()\n",
    "RETURNS float AS $$\n",
    "BEGIN\n",
    "    RETURN(\n",
    "        WITH subquery AS (\n",
    "            SELECT NomVille, SUM(NbrCli::integer) as nbCliche\n",
    "            FROM Photo p, Document d, Ville v\n",
    "            WHERE p.Article = d.PhotoArticle and d.idVille = v.idVille\n",
    "            GROUP BY NomVille\n",
    "        )\n",
    "        SELECT AVG(nbCliche) from subquery\n",
    "    );\n",
    "END;\n",
    "$$ LANGUAGE plpgsql;\n",
    "\n",
    "select func_avg_cliche_ville();"
   ]
  },
  {
   "cell_type": "code",
   "execution_count": 15,
   "metadata": {
    "ExecuteTime": {
     "end_time": "2019-02-01T16:12:40.292373Z",
     "start_time": "2019-02-01T16:12:40.268445Z"
    }
   },
   "outputs": [
    {
     "name": "stdout",
     "output_type": "stream",
     "text": [
      "10 row(s) returned.\n"
     ]
    },
    {
     "data": {
      "text/html": [
       "<table>\n",
       "<tr><th style=\"text-align: right;\">  photoarticle</th><th style=\"text-align: right;\">  discriminant</th><th style=\"text-align: right;\">  datep</th></tr>\n",
       "<tr><td style=\"text-align: right;\">            13</td><td style=\"text-align: right;\">            21</td><td style=\"text-align: right;\">   1961</td></tr>\n",
       "<tr><td style=\"text-align: right;\">             1</td><td style=\"text-align: right;\">             2</td><td style=\"text-align: right;\">   1961</td></tr>\n",
       "<tr><td style=\"text-align: right;\">             2</td><td style=\"text-align: right;\">             1</td><td style=\"text-align: right;\">   1961</td></tr>\n",
       "<tr><td style=\"text-align: right;\">             2</td><td style=\"text-align: right;\">             2</td><td style=\"text-align: right;\">   1961</td></tr>\n",
       "<tr><td style=\"text-align: right;\">             2</td><td style=\"text-align: right;\">             3</td><td style=\"text-align: right;\">   1961</td></tr>\n",
       "<tr><td style=\"text-align: right;\">             2</td><td style=\"text-align: right;\">             4</td><td style=\"text-align: right;\">   1961</td></tr>\n",
       "<tr><td style=\"text-align: right;\">             3</td><td style=\"text-align: right;\">             1</td><td style=\"text-align: right;\">   1961</td></tr>\n",
       "<tr><td style=\"text-align: right;\">             3</td><td style=\"text-align: right;\">             2</td><td style=\"text-align: right;\">   1961</td></tr>\n",
       "<tr><td style=\"text-align: right;\">             4</td><td style=\"text-align: right;\">             1</td><td style=\"text-align: right;\">   1961</td></tr>\n",
       "<tr><td style=\"text-align: right;\">             4</td><td style=\"text-align: right;\">             2</td><td style=\"text-align: right;\">   1961</td></tr>\n",
       "</table>"
      ],
      "text/latex": [
       "\\begin{tabular}{rrr}\n",
       "\\toprule\n",
       "   photoarticle &   discriminant &   datep \\\\\n",
       "\\midrule\n",
       "             13 &             21 &    1961 \\\\\n",
       "              1 &              2 &    1961 \\\\\n",
       "              2 &              1 &    1961 \\\\\n",
       "              2 &              2 &    1961 \\\\\n",
       "              2 &              3 &    1961 \\\\\n",
       "              2 &              4 &    1961 \\\\\n",
       "              3 &              1 &    1961 \\\\\n",
       "              3 &              2 &    1961 \\\\\n",
       "              4 &              1 &    1961 \\\\\n",
       "              4 &              2 &    1961 \\\\\n",
       "\\bottomrule\n",
       "\\end{tabular}"
      ],
      "text/plain": [
       "  photoarticle    discriminant    datep\n",
       "--------------  --------------  -------\n",
       "            13              21     1961\n",
       "             1               2     1961\n",
       "             2               1     1961\n",
       "             2               2     1961\n",
       "             2               3     1961\n",
       "             2               4     1961\n",
       "             3               1     1961\n",
       "             3               2     1961\n",
       "             4               1     1961\n",
       "             4               2     1961"
      ]
     },
     "metadata": {},
     "output_type": "display_data"
    }
   ],
   "source": [
    "/*====================================================\n",
    " * Les n photos les plus anciennes \n",
    " * flag: true (plus anciens), false (plus récent)\n",
    " *====================================================*/\n",
    "DROP FUNCTION IF EXISTS func_photos_anciennes_recents CASCADE;\n",
    "CREATE OR REPLACE FUNCTION func_photos_anciennes_recents(n integer, flag boolean)\n",
    "RETURNS TABLE(PhotoArticle integer, Discriminant integer, DateP varchar) AS $$\n",
    "    BEGIN\n",
    "        IF flag THEN\n",
    "            RETURN QUERY(\n",
    "                WITH subqueryYear AS(SELECT MIN(DateAnnee::numeric) as minYear FROM DatePhoto),\n",
    "                subquery1 AS(\n",
    "                    SELECT D.PhotoArticle as pArticle, D.Discriminant as pDiscriminant, DateJour, DateMois, DateAnnee\n",
    "                    FROM Document D, DatePhoto Da \n",
    "                    WHERE D.idDate = Da.idDate and Da.DateAnnee::numeric = (SELECT minYear FROM subqueryYear)\n",
    "                    ORDER BY DateMois, DateAnnee ASC\n",
    "                )\n",
    "                SELECT pArticle, pDiscriminant, array_to_string(ARRAY[DateJour, num_to_month(DateMois), DateAnnee], ' ', '')::varchar \n",
    "                FROM subquery1\n",
    "                LIMIT n\n",
    "            );\n",
    "        ELSE\n",
    "            RETURN QUERY(\n",
    "                WITH subqueryYear AS(SELECT MAX(DateAnnee::numeric) as minYear FROM DatePhoto),\n",
    "                subquery1 AS(\n",
    "                    SELECT D.PhotoArticle as pArticle, D.Discriminant as pDiscriminant, DateJour, DateMois, DateAnnee\n",
    "                    FROM Document D, DatePhoto Da \n",
    "                    WHERE D.idDate = Da.idDate and Da.DateAnnee::numeric = (SELECT minYear FROM subqueryYear)\n",
    "                    ORDER BY DateMois, DateAnnee DESC\n",
    "                )\n",
    "                SELECT pArticle, pDiscriminant, array_to_string(ARRAY[DateJour, num_to_month(DateMois), DateAnnee], ' ', '')::varchar \n",
    "                FROM subquery1\n",
    "                LIMIT n\n",
    "            );\n",
    "        END IF;\n",
    "    END; \n",
    "$$ LANGUAGE plpgsql;\n",
    "\n",
    "SELECT * FROM func_photos_anciennes_recents(10, true);"
   ]
  },
  {
   "cell_type": "code",
   "execution_count": 16,
   "metadata": {
    "ExecuteTime": {
     "end_time": "2019-02-01T16:12:40.533865Z",
     "start_time": "2019-02-01T16:12:40.294633Z"
    }
   },
   "outputs": [
    {
     "name": "stdout",
     "output_type": "stream",
     "text": [
      "1 row(s) returned.\n"
     ]
    },
    {
     "data": {
      "text/html": [
       "<table>\n",
       "<tr><th style=\"text-align: right;\">  nbre_moyen_cliche</th><th style=\"text-align: right;\">  nbre_moyen_photo</th><th style=\"text-align: right;\">  photos_sans_date</th><th>photo_plus_ancienne  </th><th>photo_plus_recente          </th></tr>\n",
       "<tr><td style=\"text-align: right;\">            360.386</td><td style=\"text-align: right;\">           83.0296</td><td style=\"text-align: right;\">               394</td><td>['13', '  1961']     </td><td>['33124', '26 Janvier 2001']</td></tr>\n",
       "</table>"
      ],
      "text/latex": [
       "\\begin{tabular}{rrrll}\n",
       "\\toprule\n",
       "   nbre\\_moyen\\_cliche &   nbre\\_moyen\\_photo &   photos\\_sans\\_date & photo\\_plus\\_ancienne   & photo\\_plus\\_recente           \\\\\n",
       "\\midrule\n",
       "             360.386 &            83.0296 &                394 & ['13', '  1961']      & ['33124', '26 Janvier 2001'] \\\\\n",
       "\\bottomrule\n",
       "\\end{tabular}"
      ],
      "text/plain": [
       "  nbre_moyen_cliche    nbre_moyen_photo    photos_sans_date  photo_plus_ancienne    photo_plus_recente\n",
       "-------------------  ------------------  ------------------  ---------------------  ----------------------------\n",
       "            360.386             83.0296                 394  ['13', '  1961']       ['33124', '26 Janvier 2001']"
      ]
     },
     "metadata": {},
     "output_type": "display_data"
    }
   ],
   "source": [
    "CREATE OR REPLACE VIEW view_statistique AS \n",
    "    SELECT func_avg_cliche_ville() as nbre_moyen_cliche ,\n",
    "        func_avg_photo_ville() as nbre_moyen_photo,\n",
    "        (select count(*) from date_photo()) as photos_sans_date,\n",
    "        (select ARRAY[PhotoArticle::varchar, DateP] FROM func_photos_anciennes_recents(1, true)) as photo_plus_ancienne,\n",
    "        (select ARRAY[PhotoArticle::varchar, DateP] FROM func_photos_anciennes_recents(1, false)) as photo_plus_recente\n",
    ";\n",
    "\n",
    "select * from view_statistique;"
   ]
  },
  {
   "cell_type": "markdown",
   "metadata": {},
   "source": [
    "# Proportions et évolution\n",
    "## Fonction qui permet de faire les histogrames"
   ]
  },
  {
   "cell_type": "code",
   "execution_count": 17,
   "metadata": {
    "ExecuteTime": {
     "end_time": "2019-02-01T16:12:40.541558Z",
     "start_time": "2019-02-01T16:12:40.535919Z"
    }
   },
   "outputs": [],
   "source": [
    "/*================================================\n",
    " * FUNCTION: histogram\n",
    " * Représenter les pourcentages en visuel\n",
    " *================================================*/\n",
    "DROP FUNCTION IF EXISTS histogram(anyarray,anyelement);\n",
    "CREATE OR REPLACE FUNCTION histogram(arr anyarray, freq anyelement)\n",
    "RETURNS varchar AS $$\n",
    "    DECLARE\n",
    "        v_max integer := (SELECT MAX(a) FROM unnest(arr) a);\n",
    "    BEGIN\n",
    "        IF v_max = 0 THEN v_max := 1; END IF;\n",
    "        RETURN repeat('█', (freq::float/(v_max) *30)::int);\n",
    "    \n",
    "    END;\n",
    "$$ language plpgsql;"
   ]
  },
  {
   "cell_type": "markdown",
   "metadata": {},
   "source": [
    "## Le pourcentage de photos pris dans chaque ville. (la ville qui a plus de photos)"
   ]
  },
  {
   "cell_type": "code",
   "execution_count": 18,
   "metadata": {
    "ExecuteTime": {
     "end_time": "2019-02-01T16:12:40.675850Z",
     "start_time": "2019-02-01T16:12:40.542964Z"
    }
   },
   "outputs": [
    {
     "name": "stdout",
     "output_type": "stream",
     "text": [
      "10 row(s) returned.\n"
     ]
    },
    {
     "data": {
      "text/html": [
       "<table>\n",
       "<tr><th>nomville            </th><th style=\"text-align: right;\">  nbphoto</th><th style=\"text-align: right;\">  pourcentage</th><th>bar                           </th></tr>\n",
       "<tr><td>Orléans             </td><td style=\"text-align: right;\">     6269</td><td style=\"text-align: right;\">     18.2291 </td><td>██████████████████████████████</td></tr>\n",
       "<tr><td>Gien                </td><td style=\"text-align: right;\">      841</td><td style=\"text-align: right;\">      2.44548</td><td>████                          </td></tr>\n",
       "<tr><td>Montargis           </td><td style=\"text-align: right;\">      651</td><td style=\"text-align: right;\">      1.89299</td><td>███                           </td></tr>\n",
       "<tr><td>Pithiviers          </td><td style=\"text-align: right;\">      525</td><td style=\"text-align: right;\">      1.52661</td><td>███                           </td></tr>\n",
       "<tr><td>Olivet              </td><td style=\"text-align: right;\">      475</td><td style=\"text-align: right;\">      1.38122</td><td>██                            </td></tr>\n",
       "<tr><td>Beaugency           </td><td style=\"text-align: right;\">      434</td><td style=\"text-align: right;\">      1.26199</td><td>██                            </td></tr>\n",
       "<tr><td>Sully-sur-Loire     </td><td style=\"text-align: right;\">      427</td><td style=\"text-align: right;\">      1.24164</td><td>██                            </td></tr>\n",
       "<tr><td>Loire(fleuve)       </td><td style=\"text-align: right;\">      421</td><td style=\"text-align: right;\">      1.22419</td><td>██                            </td></tr>\n",
       "<tr><td>La-Ferté-Saint-Aubin</td><td style=\"text-align: right;\">      418</td><td style=\"text-align: right;\">      1.21547</td><td>██                            </td></tr>\n",
       "<tr><td>Beaune-la-Rolande   </td><td style=\"text-align: right;\">      396</td><td style=\"text-align: right;\">      1.1515 </td><td>██                            </td></tr>\n",
       "</table>"
      ],
      "text/latex": [
       "\\begin{tabular}{lrrl}\n",
       "\\toprule\n",
       " nomville             &   nbphoto &   pourcentage & bar                            \\\\\n",
       "\\midrule\n",
       " Orléans              &      6269 &      18.2291  & ██████████████████████████████ \\\\\n",
       " Gien                 &       841 &       2.44548 & ████                           \\\\\n",
       " Montargis            &       651 &       1.89299 & ███                            \\\\\n",
       " Pithiviers           &       525 &       1.52661 & ███                            \\\\\n",
       " Olivet               &       475 &       1.38122 & ██                             \\\\\n",
       " Beaugency            &       434 &       1.26199 & ██                             \\\\\n",
       " Sully-sur-Loire      &       427 &       1.24164 & ██                             \\\\\n",
       " Loire(fleuve)        &       421 &       1.22419 & ██                             \\\\\n",
       " La-Ferté-Saint-Aubin &       418 &       1.21547 & ██                             \\\\\n",
       " Beaune-la-Rolande    &       396 &       1.1515  & ██                             \\\\\n",
       "\\bottomrule\n",
       "\\end{tabular}"
      ],
      "text/plain": [
       "nomville                nbphoto    pourcentage  bar\n",
       "--------------------  ---------  -------------  ------------------------------\n",
       "Orléans                    6269       18.2291   ██████████████████████████████\n",
       "Gien                        841        2.44548  ████\n",
       "Montargis                   651        1.89299  ███\n",
       "Pithiviers                  525        1.52661  ███\n",
       "Olivet                      475        1.38122  ██\n",
       "Beaugency                   434        1.26199  ██\n",
       "Sully-sur-Loire             427        1.24164  ██\n",
       "Loire(fleuve)               421        1.22419  ██\n",
       "La-Ferté-Saint-Aubin        418        1.21547  ██\n",
       "Beaune-la-Rolande           396        1.1515   ██"
      ]
     },
     "metadata": {},
     "output_type": "display_data"
    }
   ],
   "source": [
    "/*================================================\n",
    " * Le pourcentage de photos pris dans chaque ville. (la ville qui a plus de photos)\n",
    " *================================================*/\n",
    "WITH \n",
    "    subquery AS(SELECT COUNT(Article) as nbPhoto FROM Photo),\n",
    "    query AS(\n",
    "        SELECT NomVille, \n",
    "            COUNT(DISTINCT PhotoArticle) as nbPhoto, \n",
    "            COUNT(DISTINCT PhotoArticle)*100/(SELECT nbPhoto FROM subquery) ::float as pourcentage\n",
    "        FROM Document d, Ville v\n",
    "        WHERE d.idVille = v.idVille\n",
    "        GROUP BY NomVille\n",
    "    )\n",
    "SELECT NomVille, nbPhoto, pourcentage, histogram(ARRAY(SELECT pourcentage from query), pourcentage) as bar\n",
    "FROM query\n",
    "ORDER BY nbPhoto DESC\n",
    "LIMIT 10;"
   ]
  },
  {
   "cell_type": "markdown",
   "metadata": {},
   "source": [
    "## Le pourcentage de prise de photos en fonction des années.(évolution sur une période)"
   ]
  },
  {
   "cell_type": "code",
   "execution_count": 19,
   "metadata": {
    "ExecuteTime": {
     "end_time": "2019-02-01T16:12:40.814155Z",
     "start_time": "2019-02-01T16:12:40.677264Z"
    }
   },
   "outputs": [
    {
     "name": "stdout",
     "output_type": "stream",
     "text": [
      "10 row(s) returned.\n"
     ]
    },
    {
     "data": {
      "text/html": [
       "<table>\n",
       "<tr><th style=\"text-align: right;\">  annee</th><th style=\"text-align: right;\">  nbphoto</th><th style=\"text-align: right;\">  pourcentage</th><th>bar                          </th></tr>\n",
       "<tr><td style=\"text-align: right;\">   1975</td><td style=\"text-align: right;\">     6370</td><td style=\"text-align: right;\">     18.5228 </td><td>█████████████████████████████</td></tr>\n",
       "<tr><td style=\"text-align: right;\">   1996</td><td style=\"text-align: right;\">     2226</td><td style=\"text-align: right;\">      6.47281</td><td>██████████                   </td></tr>\n",
       "<tr><td style=\"text-align: right;\">   1973</td><td style=\"text-align: right;\">     1551</td><td style=\"text-align: right;\">      4.51003</td><td>███████                      </td></tr>\n",
       "<tr><td style=\"text-align: right;\">   1995</td><td style=\"text-align: right;\">     1469</td><td style=\"text-align: right;\">      4.27159</td><td>███████                      </td></tr>\n",
       "<tr><td style=\"text-align: right;\">   1999</td><td style=\"text-align: right;\">     1362</td><td style=\"text-align: right;\">      3.96045</td><td>██████                       </td></tr>\n",
       "<tr><td style=\"text-align: right;\">   2001</td><td style=\"text-align: right;\">     1329</td><td style=\"text-align: right;\">      3.8645 </td><td>██████                       </td></tr>\n",
       "<tr><td style=\"text-align: right;\">   1983</td><td style=\"text-align: right;\">     1303</td><td style=\"text-align: right;\">      3.78889</td><td>██████                       </td></tr>\n",
       "<tr><td style=\"text-align: right;\">   1982</td><td style=\"text-align: right;\">     1262</td><td style=\"text-align: right;\">      3.66967</td><td>██████                       </td></tr>\n",
       "<tr><td style=\"text-align: right;\">   1998</td><td style=\"text-align: right;\">     1233</td><td style=\"text-align: right;\">      3.58534</td><td>██████                       </td></tr>\n",
       "<tr><td style=\"text-align: right;\">   1969</td><td style=\"text-align: right;\">     1129</td><td style=\"text-align: right;\">      3.28293</td><td>█████                        </td></tr>\n",
       "</table>"
      ],
      "text/latex": [
       "\\begin{tabular}{rrrl}\n",
       "\\toprule\n",
       "   annee &   nbphoto &   pourcentage & bar                           \\\\\n",
       "\\midrule\n",
       "    1975 &      6370 &      18.5228  & █████████████████████████████ \\\\\n",
       "    1996 &      2226 &       6.47281 & ██████████                    \\\\\n",
       "    1973 &      1551 &       4.51003 & ███████                       \\\\\n",
       "    1995 &      1469 &       4.27159 & ███████                       \\\\\n",
       "    1999 &      1362 &       3.96045 & ██████                        \\\\\n",
       "    2001 &      1329 &       3.8645  & ██████                        \\\\\n",
       "    1983 &      1303 &       3.78889 & ██████                        \\\\\n",
       "    1982 &      1262 &       3.66967 & ██████                        \\\\\n",
       "    1998 &      1233 &       3.58534 & ██████                        \\\\\n",
       "    1969 &      1129 &       3.28293 & █████                         \\\\\n",
       "\\bottomrule\n",
       "\\end{tabular}"
      ],
      "text/plain": [
       "  annee    nbphoto    pourcentage  bar\n",
       "-------  ---------  -------------  -----------------------------\n",
       "   1975       6370       18.5228   █████████████████████████████\n",
       "   1996       2226        6.47281  ██████████\n",
       "   1973       1551        4.51003  ███████\n",
       "   1995       1469        4.27159  ███████\n",
       "   1999       1362        3.96045  ██████\n",
       "   2001       1329        3.8645   ██████\n",
       "   1983       1303        3.78889  ██████\n",
       "   1982       1262        3.66967  ██████\n",
       "   1998       1233        3.58534  ██████\n",
       "   1969       1129        3.28293  █████"
      ]
     },
     "metadata": {},
     "output_type": "display_data"
    }
   ],
   "source": [
    "/*================================================\n",
    " * Le pourcentage de prise de photos en fonction des années.(évolution sur une période)\n",
    " *================================================*/\n",
    "WITH \n",
    "    subquery AS(SELECT COUNT(Article) as nbPhoto FROM Photo),\n",
    "    query AS(\n",
    "        SELECT DateAnnee::numeric as Annee, \n",
    "            COUNT(DISTINCT PhotoArticle) as nbPhoto, \n",
    "            COUNT(DISTINCT PhotoArticle)*100/(SELECT nbPhoto FROM subquery) ::float as pourcentage\n",
    "        FROM Document d, DatePhoto dp\n",
    "        WHERE d.idDate = dp.idDate\n",
    "        GROUP BY Annee\n",
    "    )\n",
    "SELECT Annee, nbPhoto, pourcentage, histogram(ARRAY(SELECT pourcentage from query), pourcentage) as bar\n",
    "FROM query\n",
    "ORDER BY nbPhoto DESC\n",
    "LIMIT 10;"
   ]
  },
  {
   "cell_type": "markdown",
   "metadata": {},
   "source": [
    "## La proportion de photos selon leur taille. "
   ]
  },
  {
   "cell_type": "code",
   "execution_count": 20,
   "metadata": {
    "ExecuteTime": {
     "end_time": "2019-02-01T16:12:40.916552Z",
     "start_time": "2019-02-01T16:12:40.815562Z"
    }
   },
   "outputs": [
    {
     "name": "stdout",
     "output_type": "stream",
     "text": [
      "7 row(s) returned.\n"
     ]
    },
    {
     "data": {
      "text/html": [
       "<table>\n",
       "<tr><th>taille        </th><th style=\"text-align: right;\">  nbphoto</th><th style=\"text-align: right;\">  pourcentage</th><th>bar                           </th></tr>\n",
       "<tr><td>10x12.5 (4x5\")</td><td style=\"text-align: right;\">    22687</td><td style=\"text-align: right;\">   65.9698   </td><td>██████████████████████████████</td></tr>\n",
       "<tr><td>24x36         </td><td style=\"text-align: right;\">     7224</td><td style=\"text-align: right;\">   21.0061   </td><td>██████████                    </td></tr>\n",
       "<tr><td>4.5x6         </td><td style=\"text-align: right;\">     3013</td><td style=\"text-align: right;\">    8.76127  </td><td>████                          </td></tr>\n",
       "<tr><td>9x12          </td><td style=\"text-align: right;\">     1817</td><td style=\"text-align: right;\">    5.28351  </td><td>██                            </td></tr>\n",
       "<tr><td>6x7           </td><td style=\"text-align: right;\">       51</td><td style=\"text-align: right;\">    0.148299 </td><td>                              </td></tr>\n",
       "<tr><td>6x9           </td><td style=\"text-align: right;\">       14</td><td style=\"text-align: right;\">    0.0407095</td><td>                              </td></tr>\n",
       "<tr><td>6x6           </td><td style=\"text-align: right;\">        9</td><td style=\"text-align: right;\">    0.0261704</td><td>                              </td></tr>\n",
       "</table>"
      ],
      "text/latex": [
       "\\begin{tabular}{lrrl}\n",
       "\\toprule\n",
       " taille         &   nbphoto &   pourcentage & bar                            \\\\\n",
       "\\midrule\n",
       " 10x12.5 (4x5\") &     22687 &    65.9698    & ██████████████████████████████ \\\\\n",
       " 24x36          &      7224 &    21.0061    & ██████████                     \\\\\n",
       " 4.5x6          &      3013 &     8.76127   & ████                           \\\\\n",
       " 9x12           &      1817 &     5.28351   & ██                             \\\\\n",
       " 6x7            &        51 &     0.148299  &                                \\\\\n",
       " 6x9            &        14 &     0.0407095 &                                \\\\\n",
       " 6x6            &         9 &     0.0261704 &                                \\\\\n",
       "\\bottomrule\n",
       "\\end{tabular}"
      ],
      "text/plain": [
       "taille            nbphoto    pourcentage  bar\n",
       "--------------  ---------  -------------  ------------------------------\n",
       "10x12.5 (4x5\")      22687     65.9698     ██████████████████████████████\n",
       "24x36                7224     21.0061     ██████████\n",
       "4.5x6                3013      8.76127    ████\n",
       "9x12                 1817      5.28351    ██\n",
       "6x7                    51      0.148299\n",
       "6x9                    14      0.0407095\n",
       "6x6                     9      0.0261704"
      ]
     },
     "metadata": {},
     "output_type": "display_data"
    }
   ],
   "source": [
    "/*================================================\n",
    " * La proportion de photos selon leur taille.\n",
    " *================================================*/\n",
    "WITH \n",
    "    subquery AS(SELECT COUNT(Article) as nbPhoto FROM Photo),\n",
    "    query AS(\n",
    "        SELECT Taille, \n",
    "            COUNT(DISTINCT PhotoArticle) as nbPhoto, \n",
    "            COUNT(DISTINCT PhotoArticle)*100/(SELECT nbPhoto FROM subquery) ::float as pourcentage\n",
    "        FROM Document d, Cliche c\n",
    "        WHERE d.idCliche = c.idCliche\n",
    "        GROUP BY Taille\n",
    "    )\n",
    "SELECT Taille, nbPhoto, pourcentage, histogram(ARRAY(SELECT pourcentage from query), pourcentage) as bar\n",
    "FROM query\n",
    "ORDER BY nbPhoto DESC\n",
    "LIMIT 10;"
   ]
  },
  {
   "cell_type": "markdown",
   "metadata": {},
   "source": [
    "## Le pourcentage de personnes représentées ( + par ville, par année)"
   ]
  },
  {
   "cell_type": "code",
   "execution_count": 21,
   "metadata": {
    "ExecuteTime": {
     "end_time": "2019-02-01T16:12:40.938951Z",
     "start_time": "2019-02-01T16:12:40.918255Z"
    }
   },
   "outputs": [
    {
     "name": "stdout",
     "output_type": "stream",
     "text": [
      "10 row(s) returned.\n"
     ]
    },
    {
     "data": {
      "text/html": [
       "<table>\n",
       "<tr><th>nomoeuvre                                       </th><th style=\"text-align: right;\">  nbphoto</th><th style=\"text-align: right;\">  pourcentage</th><th>bar           </th></tr>\n",
       "<tr><td>JEANNE D'ARC                                    </td><td style=\"text-align: right;\">      166</td><td style=\"text-align: right;\">    0.482698 </td><td>██████████████</td></tr>\n",
       "<tr><td>CHIRAC Jacques (président de la République)     </td><td style=\"text-align: right;\">      143</td><td style=\"text-align: right;\">    0.415819 </td><td>████████████  </td></tr>\n",
       "<tr><td>BOLLÉE (famille), voir aussi Saint-Jean-de-Braye</td><td style=\"text-align: right;\">       95</td><td style=\"text-align: right;\">    0.276243 </td><td>████████      </td></tr>\n",
       "<tr><td>DELMAS (ébéniste décorateur)                    </td><td style=\"text-align: right;\">       70</td><td style=\"text-align: right;\">    0.203548 </td><td>██████        </td></tr>\n",
       "<tr><td>HUBERT Jean (joaillier, sculpteur, héraldiste)  </td><td style=\"text-align: right;\">       70</td><td style=\"text-align: right;\">    0.203548 </td><td>██████        </td></tr>\n",
       "<tr><td>BERNEAU (pêcheur de saumons en Loire)           </td><td style=\"text-align: right;\">       35</td><td style=\"text-align: right;\">    0.101774 </td><td>███           </td></tr>\n",
       "<tr><td>SOLON Bernard (taillendier)                     </td><td style=\"text-align: right;\">       33</td><td style=\"text-align: right;\">    0.0959581</td><td>███           </td></tr>\n",
       "<tr><td>BOULET René (sabotier)                          </td><td style=\"text-align: right;\">       32</td><td style=\"text-align: right;\">    0.0930503</td><td>███           </td></tr>\n",
       "<tr><td>AVEZARD Pierre                                  </td><td style=\"text-align: right;\">       27</td><td style=\"text-align: right;\">    0.0785112</td><td>██            </td></tr>\n",
       "<tr><td>DABARD (distillateur)                           </td><td style=\"text-align: right;\">       26</td><td style=\"text-align: right;\">    0.0756034</td><td>██            </td></tr>\n",
       "</table>"
      ],
      "text/latex": [
       "\\begin{tabular}{lrrl}\n",
       "\\toprule\n",
       " nomoeuvre                                        &   nbphoto &   pourcentage & bar            \\\\\n",
       "\\midrule\n",
       " JEANNE D'ARC                                     &       166 &     0.482698  & ██████████████ \\\\\n",
       " CHIRAC Jacques (président de la République)      &       143 &     0.415819  & ████████████   \\\\\n",
       " BOLLÉE (famille), voir aussi Saint-Jean-de-Braye &        95 &     0.276243  & ████████       \\\\\n",
       " DELMAS (ébéniste décorateur)                     &        70 &     0.203548  & ██████         \\\\\n",
       " HUBERT Jean (joaillier, sculpteur, héraldiste)   &        70 &     0.203548  & ██████         \\\\\n",
       " BERNEAU (pêcheur de saumons en Loire)            &        35 &     0.101774  & ███            \\\\\n",
       " SOLON Bernard (taillendier)                      &        33 &     0.0959581 & ███            \\\\\n",
       " BOULET René (sabotier)                           &        32 &     0.0930503 & ███            \\\\\n",
       " AVEZARD Pierre                                   &        27 &     0.0785112 & ██             \\\\\n",
       " DABARD (distillateur)                            &        26 &     0.0756034 & ██             \\\\\n",
       "\\bottomrule\n",
       "\\end{tabular}"
      ],
      "text/plain": [
       "nomoeuvre                                           nbphoto    pourcentage  bar\n",
       "------------------------------------------------  ---------  -------------  --------------\n",
       "JEANNE D'ARC                                            166      0.482698   ██████████████\n",
       "CHIRAC Jacques (président de la République)             143      0.415819   ████████████\n",
       "BOLLÉE (famille), voir aussi Saint-Jean-de-Braye         95      0.276243   ████████\n",
       "DELMAS (ébéniste décorateur)                             70      0.203548   ██████\n",
       "HUBERT Jean (joaillier, sculpteur, héraldiste)           70      0.203548   ██████\n",
       "BERNEAU (pêcheur de saumons en Loire)                    35      0.101774   ███\n",
       "SOLON Bernard (taillendier)                              33      0.0959581  ███\n",
       "BOULET René (sabotier)                                   32      0.0930503  ███\n",
       "AVEZARD Pierre                                           27      0.0785112  ██\n",
       "DABARD (distillateur)                                    26      0.0756034  ██"
      ]
     },
     "metadata": {},
     "output_type": "display_data"
    }
   ],
   "source": [
    "/*================================================\n",
    " * Le pourcentage de personnes représentées ( + par ville, par année)\n",
    " *================================================*/\n",
    " \n",
    "WITH \n",
    "    subquery AS(SELECT COUNT(Article) as nbPhoto FROM Photo),\n",
    "    query AS(\n",
    "        SELECT NomOeuvre, \n",
    "            COUNT(DISTINCT PhotoArticle) as nbPhoto, \n",
    "            COUNT(DISTINCT PhotoArticle)*100/(SELECT nbPhoto FROM subquery) ::float as pourcentage\n",
    "        FROM Document d, IndexPersonne p\n",
    "        WHERE d.idOeuvre = p.idOeuvre\n",
    "        GROUP BY NomOeuvre\n",
    "    )\n",
    "SELECT NomOeuvre, nbPhoto, pourcentage, histogram(ARRAY(SELECT pourcentage from query), pourcentage) as bar\n",
    "FROM query\n",
    "ORDER BY nbPhoto DESC\n",
    "LIMIT 10;"
   ]
  },
  {
   "cell_type": "code",
   "execution_count": 22,
   "metadata": {
    "ExecuteTime": {
     "end_time": "2019-02-01T16:12:40.963686Z",
     "start_time": "2019-02-01T16:12:40.940426Z"
    }
   },
   "outputs": [
    {
     "name": "stdout",
     "output_type": "stream",
     "text": [
      "10 row(s) returned.\n"
     ]
    },
    {
     "data": {
      "text/html": [
       "<table>\n",
       "<tr><th>nomoeuvre                                       </th><th>nomville           </th><th style=\"text-align: right;\">  nbphoto</th><th style=\"text-align: right;\">  pourcentage</th><th>bar          </th></tr>\n",
       "<tr><td>JEANNE D'ARC                                    </td><td>Orléans            </td><td style=\"text-align: right;\">      154</td><td style=\"text-align: right;\">     0.447805</td><td>█████████████</td></tr>\n",
       "<tr><td>CHIRAC Jacques (président de la République)     </td><td>Orléans            </td><td style=\"text-align: right;\">      143</td><td style=\"text-align: right;\">     0.415819</td><td>████████████ </td></tr>\n",
       "<tr><td>BOLLÉE (famille), voir aussi Saint-Jean-de-Braye</td><td>Saint-Jean-de-Braye</td><td style=\"text-align: right;\">       95</td><td style=\"text-align: right;\">     0.276243</td><td>████████     </td></tr>\n",
       "<tr><td>DELMAS (ébéniste décorateur)                    </td><td>Nargis             </td><td style=\"text-align: right;\">       70</td><td style=\"text-align: right;\">     0.203548</td><td>██████       </td></tr>\n",
       "<tr><td>DELMAS (ébéniste décorateur)                    </td><td>Chécy              </td><td style=\"text-align: right;\">       70</td><td style=\"text-align: right;\">     0.203548</td><td>██████       </td></tr>\n",
       "<tr><td>DELMAS (ébéniste décorateur)                    </td><td>Bellegarde         </td><td style=\"text-align: right;\">       70</td><td style=\"text-align: right;\">     0.203548</td><td>██████       </td></tr>\n",
       "<tr><td>DELMAS (ébéniste décorateur)                    </td><td>Châtillon-le-Roi   </td><td style=\"text-align: right;\">       70</td><td style=\"text-align: right;\">     0.203548</td><td>██████       </td></tr>\n",
       "<tr><td>DELMAS (ébéniste décorateur)                    </td><td>Gien               </td><td style=\"text-align: right;\">       70</td><td style=\"text-align: right;\">     0.203548</td><td>██████       </td></tr>\n",
       "<tr><td>DELMAS (ébéniste décorateur)                    </td><td>Mignerette         </td><td style=\"text-align: right;\">       70</td><td style=\"text-align: right;\">     0.203548</td><td>██████       </td></tr>\n",
       "<tr><td>DELMAS (ébéniste décorateur)                    </td><td>Montargis          </td><td style=\"text-align: right;\">       70</td><td style=\"text-align: right;\">     0.203548</td><td>██████       </td></tr>\n",
       "</table>"
      ],
      "text/latex": [
       "\\begin{tabular}{llrrl}\n",
       "\\toprule\n",
       " nomoeuvre                                        & nomville            &   nbphoto &   pourcentage & bar           \\\\\n",
       "\\midrule\n",
       " JEANNE D'ARC                                     & Orléans             &       154 &      0.447805 & █████████████ \\\\\n",
       " CHIRAC Jacques (président de la République)      & Orléans             &       143 &      0.415819 & ████████████  \\\\\n",
       " BOLLÉE (famille), voir aussi Saint-Jean-de-Braye & Saint-Jean-de-Braye &        95 &      0.276243 & ████████      \\\\\n",
       " DELMAS (ébéniste décorateur)                     & Nargis              &        70 &      0.203548 & ██████        \\\\\n",
       " DELMAS (ébéniste décorateur)                     & Chécy               &        70 &      0.203548 & ██████        \\\\\n",
       " DELMAS (ébéniste décorateur)                     & Bellegarde          &        70 &      0.203548 & ██████        \\\\\n",
       " DELMAS (ébéniste décorateur)                     & Châtillon-le-Roi    &        70 &      0.203548 & ██████        \\\\\n",
       " DELMAS (ébéniste décorateur)                     & Gien                &        70 &      0.203548 & ██████        \\\\\n",
       " DELMAS (ébéniste décorateur)                     & Mignerette          &        70 &      0.203548 & ██████        \\\\\n",
       " DELMAS (ébéniste décorateur)                     & Montargis           &        70 &      0.203548 & ██████        \\\\\n",
       "\\bottomrule\n",
       "\\end{tabular}"
      ],
      "text/plain": [
       "nomoeuvre                                         nomville               nbphoto    pourcentage  bar\n",
       "------------------------------------------------  -------------------  ---------  -------------  -------------\n",
       "JEANNE D'ARC                                      Orléans                    154       0.447805  █████████████\n",
       "CHIRAC Jacques (président de la République)       Orléans                    143       0.415819  ████████████\n",
       "BOLLÉE (famille), voir aussi Saint-Jean-de-Braye  Saint-Jean-de-Braye         95       0.276243  ████████\n",
       "DELMAS (ébéniste décorateur)                      Nargis                      70       0.203548  ██████\n",
       "DELMAS (ébéniste décorateur)                      Chécy                       70       0.203548  ██████\n",
       "DELMAS (ébéniste décorateur)                      Bellegarde                  70       0.203548  ██████\n",
       "DELMAS (ébéniste décorateur)                      Châtillon-le-Roi            70       0.203548  ██████\n",
       "DELMAS (ébéniste décorateur)                      Gien                        70       0.203548  ██████\n",
       "DELMAS (ébéniste décorateur)                      Mignerette                  70       0.203548  ██████\n",
       "DELMAS (ébéniste décorateur)                      Montargis                   70       0.203548  ██████"
      ]
     },
     "metadata": {},
     "output_type": "display_data"
    }
   ],
   "source": [
    "/*================================================\n",
    " * Le pourcentage de personnes représentées ( par ville)\n",
    " *================================================*/\n",
    "WITH \n",
    "    subquery AS(SELECT COUNT(Article) as nbPhoto FROM Photo),\n",
    "    query AS(\n",
    "        SELECT NomOeuvre, NomVille,\n",
    "            COUNT(DISTINCT PhotoArticle) as nbPhoto, \n",
    "            COUNT(DISTINCT PhotoArticle)*100/(SELECT nbPhoto FROM subquery) ::float as pourcentage\n",
    "        FROM Document d, IndexPersonne p, Ville v\n",
    "        WHERE d.idOeuvre = p.idOeuvre and d.idVille = v.idVille\n",
    "        GROUP BY NomOeuvre, NomVille\n",
    "    )\n",
    "SELECT NomOeuvre, NomVille, nbPhoto, pourcentage, histogram(ARRAY(SELECT pourcentage from query), pourcentage) as bar\n",
    "FROM query\n",
    "ORDER BY nbPhoto DESC\n",
    "LIMIT 10;"
   ]
  },
  {
   "cell_type": "code",
   "execution_count": 23,
   "metadata": {
    "ExecuteTime": {
     "end_time": "2019-02-01T16:12:40.988748Z",
     "start_time": "2019-02-01T16:12:40.965154Z"
    }
   },
   "outputs": [
    {
     "name": "stdout",
     "output_type": "stream",
     "text": [
      "10 row(s) returned.\n"
     ]
    },
    {
     "data": {
      "text/html": [
       "<table>\n",
       "<tr><th>nomoeuvre                               </th><th style=\"text-align: right;\">  dateannee</th><th style=\"text-align: right;\">  nbphoto</th><th style=\"text-align: right;\">  pourcentage</th><th>bar  </th></tr>\n",
       "<tr><td>AVEZARD Pierre                          </td><td style=\"text-align: right;\">       1982</td><td style=\"text-align: right;\">       27</td><td style=\"text-align: right;\">   0.0785112 </td><td>██   </td></tr>\n",
       "<tr><td>BEAUDIN (chaisier)                      </td><td style=\"text-align: right;\">       1982</td><td style=\"text-align: right;\">       16</td><td style=\"text-align: right;\">   0.0465252 </td><td>█    </td></tr>\n",
       "<tr><td>BEAUHARNAIS, Anne de (marquise de Cepoy)</td><td style=\"text-align: right;\">       1975</td><td style=\"text-align: right;\">        1</td><td style=\"text-align: right;\">   0.00290782</td><td>     </td></tr>\n",
       "<tr><td>BECQUEREL, Antoine-César (physicien)    </td><td style=\"text-align: right;\">       1982</td><td style=\"text-align: right;\">        4</td><td style=\"text-align: right;\">   0.0116313 </td><td>     </td></tr>\n",
       "<tr><td>BECQUEREL, Antoine-César (physicien)    </td><td style=\"text-align: right;\">       1975</td><td style=\"text-align: right;\">        3</td><td style=\"text-align: right;\">   0.00872347</td><td>     </td></tr>\n",
       "<tr><td>BECQUEREL, Antoine-César (physicien)    </td><td style=\"text-align: right;\">       1993</td><td style=\"text-align: right;\">        1</td><td style=\"text-align: right;\">   0.00290782</td><td>     </td></tr>\n",
       "<tr><td>BECQUEREL, Antoine-César (physicien)    </td><td style=\"text-align: right;\">       1981</td><td style=\"text-align: right;\">        2</td><td style=\"text-align: right;\">   0.00581564</td><td>     </td></tr>\n",
       "<tr><td>BECQUEREL (famille)                     </td><td style=\"text-align: right;\">       1982</td><td style=\"text-align: right;\">        6</td><td style=\"text-align: right;\">   0.0174469 </td><td>█    </td></tr>\n",
       "<tr><td>BERNEAU (pêcheur de saumons en Loire)   </td><td style=\"text-align: right;\">       1963</td><td style=\"text-align: right;\">        5</td><td style=\"text-align: right;\">   0.0145391 </td><td>     </td></tr>\n",
       "<tr><td>BERNEAU (pêcheur de saumons en Loire)   </td><td style=\"text-align: right;\">       1962</td><td style=\"text-align: right;\">       17</td><td style=\"text-align: right;\">   0.049433  </td><td>█    </td></tr>\n",
       "</table>"
      ],
      "text/latex": [
       "\\begin{tabular}{lrrrl}\n",
       "\\toprule\n",
       " nomoeuvre                                &   dateannee &   nbphoto &   pourcentage & bar   \\\\\n",
       "\\midrule\n",
       " AVEZARD Pierre                           &        1982 &        27 &    0.0785112  & ██    \\\\\n",
       " BEAUDIN (chaisier)                       &        1982 &        16 &    0.0465252  & █     \\\\\n",
       " BEAUHARNAIS, Anne de (marquise de Cepoy) &        1975 &         1 &    0.00290782 &       \\\\\n",
       " BECQUEREL, Antoine-César (physicien)     &        1982 &         4 &    0.0116313  &       \\\\\n",
       " BECQUEREL, Antoine-César (physicien)     &        1975 &         3 &    0.00872347 &       \\\\\n",
       " BECQUEREL, Antoine-César (physicien)     &        1993 &         1 &    0.00290782 &       \\\\\n",
       " BECQUEREL, Antoine-César (physicien)     &        1981 &         2 &    0.00581564 &       \\\\\n",
       " BECQUEREL (famille)                      &        1982 &         6 &    0.0174469  & █     \\\\\n",
       " BERNEAU (pêcheur de saumons en Loire)    &        1963 &         5 &    0.0145391  &       \\\\\n",
       " BERNEAU (pêcheur de saumons en Loire)    &        1962 &        17 &    0.049433   & █     \\\\\n",
       "\\bottomrule\n",
       "\\end{tabular}"
      ],
      "text/plain": [
       "nomoeuvre                                   dateannee    nbphoto    pourcentage  bar\n",
       "----------------------------------------  -----------  ---------  -------------  -----\n",
       "AVEZARD Pierre                                   1982         27     0.0785112   ██\n",
       "BEAUDIN (chaisier)                               1982         16     0.0465252   █\n",
       "BEAUHARNAIS, Anne de (marquise de Cepoy)         1975          1     0.00290782\n",
       "BECQUEREL, Antoine-César (physicien)             1982          4     0.0116313\n",
       "BECQUEREL, Antoine-César (physicien)             1975          3     0.00872347\n",
       "BECQUEREL, Antoine-César (physicien)             1993          1     0.00290782\n",
       "BECQUEREL, Antoine-César (physicien)             1981          2     0.00581564\n",
       "BECQUEREL (famille)                              1982          6     0.0174469   █\n",
       "BERNEAU (pêcheur de saumons en Loire)            1963          5     0.0145391\n",
       "BERNEAU (pêcheur de saumons en Loire)            1962         17     0.049433    █"
      ]
     },
     "metadata": {},
     "output_type": "display_data"
    }
   ],
   "source": [
    "/*================================================\n",
    " * Le pourcentage de personnes représentées ( par année)\n",
    " *================================================*/\n",
    "WITH \n",
    "    subquery AS(SELECT COUNT(Article) as nbPhoto FROM Photo),\n",
    "    query AS(\n",
    "        SELECT NomOeuvre, DateAnnee::numeric,\n",
    "            COUNT(DISTINCT PhotoArticle) as nbPhoto, \n",
    "            COUNT(DISTINCT PhotoArticle)*100/(SELECT nbPhoto FROM subquery) ::float as pourcentage\n",
    "        FROM Document d, IndexPersonne p, DatePhoto dp\n",
    "        WHERE d.idOeuvre = p.idOeuvre and d.idDate = dp.idDate\n",
    "        GROUP BY NomOeuvre, DateAnnee\n",
    "    )\n",
    "SELECT NomOeuvre, DateAnnee, nbPhoto, pourcentage, histogram(ARRAY(SELECT pourcentage from query), pourcentage) as bar\n",
    "FROM query\n",
    "ORDER BY NomOeuvre\n",
    "LIMIT 10;"
   ]
  },
  {
   "cell_type": "markdown",
   "metadata": {},
   "source": [
    "## Le pourcentage de type d’oeuvre représentées (+ par ville, par année)"
   ]
  },
  {
   "cell_type": "code",
   "execution_count": 24,
   "metadata": {
    "ExecuteTime": {
     "end_time": "2019-02-01T16:12:41.010164Z",
     "start_time": "2019-02-01T16:12:40.990138Z"
    }
   },
   "outputs": [
    {
     "name": "stdout",
     "output_type": "stream",
     "text": [
      "10 row(s) returned.\n"
     ]
    },
    {
     "data": {
      "text/html": [
       "<table>\n",
       "<tr><th>nomtype              </th><th style=\"text-align: right;\">  nbphoto</th><th style=\"text-align: right;\">  pourcentage</th><th>bar                          </th></tr>\n",
       "<tr><td>                     </td><td style=\"text-align: right;\">      666</td><td style=\"text-align: right;\">    1.93661  </td><td>█████████████████████████████</td></tr>\n",
       "<tr><td>fête                 </td><td style=\"text-align: right;\">      143</td><td style=\"text-align: right;\">    0.415819 </td><td>██████                       </td></tr>\n",
       "<tr><td>statue               </td><td style=\"text-align: right;\">      122</td><td style=\"text-align: right;\">    0.354754 </td><td>█████                        </td></tr>\n",
       "<tr><td>fonderie Bollée      </td><td style=\"text-align: right;\">       95</td><td style=\"text-align: right;\">    0.276243 </td><td>████                         </td></tr>\n",
       "<tr><td>plaque commémorative </td><td style=\"text-align: right;\">       31</td><td style=\"text-align: right;\">    0.0901425</td><td>█                            </td></tr>\n",
       "<tr><td>monument commémoratif</td><td style=\"text-align: right;\">        7</td><td style=\"text-align: right;\">    0.0203548</td><td>                             </td></tr>\n",
       "<tr><td>tombeau              </td><td style=\"text-align: right;\">        6</td><td style=\"text-align: right;\">    0.0174469</td><td>                             </td></tr>\n",
       "<tr><td>maison               </td><td style=\"text-align: right;\">        6</td><td style=\"text-align: right;\">    0.0174469</td><td>                             </td></tr>\n",
       "<tr><td>mausolée             </td><td style=\"text-align: right;\">        6</td><td style=\"text-align: right;\">    0.0174469</td><td>                             </td></tr>\n",
       "<tr><td>foyer                </td><td style=\"text-align: right;\">        5</td><td style=\"text-align: right;\">    0.0145391</td><td>                             </td></tr>\n",
       "</table>"
      ],
      "text/latex": [
       "\\begin{tabular}{lrrl}\n",
       "\\toprule\n",
       " nomtype               &   nbphoto &   pourcentage & bar                           \\\\\n",
       "\\midrule\n",
       "                       &       666 &     1.93661   & █████████████████████████████ \\\\\n",
       " fête                  &       143 &     0.415819  & ██████                        \\\\\n",
       " statue                &       122 &     0.354754  & █████                         \\\\\n",
       " fonderie Bollée       &        95 &     0.276243  & ████                          \\\\\n",
       " plaque commémorative  &        31 &     0.0901425 & █                             \\\\\n",
       " monument commémoratif &         7 &     0.0203548 &                               \\\\\n",
       " tombeau               &         6 &     0.0174469 &                               \\\\\n",
       " maison                &         6 &     0.0174469 &                               \\\\\n",
       " mausolée              &         6 &     0.0174469 &                               \\\\\n",
       " foyer                 &         5 &     0.0145391 &                               \\\\\n",
       "\\bottomrule\n",
       "\\end{tabular}"
      ],
      "text/plain": [
       "nomtype                  nbphoto    pourcentage  bar\n",
       "---------------------  ---------  -------------  -----------------------------\n",
       "                             666      1.93661    █████████████████████████████\n",
       "fête                         143      0.415819   ██████\n",
       "statue                       122      0.354754   █████\n",
       "fonderie Bollée               95      0.276243   ████\n",
       "plaque commémorative          31      0.0901425  █\n",
       "monument commémoratif          7      0.0203548\n",
       "tombeau                        6      0.0174469\n",
       "maison                         6      0.0174469\n",
       "mausolée                       6      0.0174469\n",
       "foyer                          5      0.0145391"
      ]
     },
     "metadata": {},
     "output_type": "display_data"
    }
   ],
   "source": [
    "/*================================================\n",
    " * Le pourcentage de type d’oeuvre représentées (+ par ville, par année)\n",
    " *================================================*/\n",
    " \n",
    "WITH \n",
    "    subquery AS(SELECT COUNT(Article) as nbPhoto FROM Photo),\n",
    "    query AS(\n",
    "        SELECT NomType,\n",
    "            COUNT(DISTINCT PhotoArticle) as nbPhoto, \n",
    "            COUNT(DISTINCT PhotoArticle)*100/(SELECT nbPhoto FROM subquery) ::float as pourcentage\n",
    "        FROM Document d, IndexPersonne p, TypeOeuvre t\n",
    "        WHERE d.idOeuvre = p.idOeuvre and p.TypeOeuvre = t.idType\n",
    "        GROUP BY NomType\n",
    "    )\n",
    "SELECT NomType, nbPhoto, pourcentage, histogram(ARRAY(SELECT pourcentage from query), pourcentage) as bar\n",
    "FROM query\n",
    "ORDER BY nbPhoto DESC\n",
    "LIMIT 10;"
   ]
  },
  {
   "cell_type": "code",
   "execution_count": 25,
   "metadata": {
    "ExecuteTime": {
     "end_time": "2019-02-01T16:12:41.036078Z",
     "start_time": "2019-02-01T16:12:41.012628Z"
    }
   },
   "outputs": [
    {
     "name": "stdout",
     "output_type": "stream",
     "text": [
      "10 row(s) returned.\n"
     ]
    },
    {
     "data": {
      "text/html": [
       "<table>\n",
       "<tr><th>nomtype        </th><th>nomville           </th><th style=\"text-align: right;\">  nbphoto</th><th style=\"text-align: right;\">  pourcentage</th><th>bar                       </th></tr>\n",
       "<tr><td>               </td><td>Orléans            </td><td style=\"text-align: right;\">      297</td><td style=\"text-align: right;\">     0.863623</td><td>██████████████████████████</td></tr>\n",
       "<tr><td>fête           </td><td>Orléans            </td><td style=\"text-align: right;\">      143</td><td style=\"text-align: right;\">     0.415819</td><td>████████████              </td></tr>\n",
       "<tr><td>fonderie Bollée</td><td>Saint-Jean-de-Braye</td><td style=\"text-align: right;\">       95</td><td style=\"text-align: right;\">     0.276243</td><td>████████                  </td></tr>\n",
       "<tr><td>               </td><td>Nargis             </td><td style=\"text-align: right;\">       88</td><td style=\"text-align: right;\">     0.255888</td><td>████████                  </td></tr>\n",
       "<tr><td>               </td><td>Montargis          </td><td style=\"text-align: right;\">       80</td><td style=\"text-align: right;\">     0.232626</td><td>███████                   </td></tr>\n",
       "<tr><td>               </td><td>Gien               </td><td style=\"text-align: right;\">       76</td><td style=\"text-align: right;\">     0.220994</td><td>███████                   </td></tr>\n",
       "<tr><td>               </td><td>Saint-Jean-de-Braye</td><td style=\"text-align: right;\">       76</td><td style=\"text-align: right;\">     0.220994</td><td>███████                   </td></tr>\n",
       "<tr><td>               </td><td>Chécy              </td><td style=\"text-align: right;\">       75</td><td style=\"text-align: right;\">     0.218087</td><td>███████                   </td></tr>\n",
       "<tr><td>               </td><td>Mignerette         </td><td style=\"text-align: right;\">       70</td><td style=\"text-align: right;\">     0.203548</td><td>██████                    </td></tr>\n",
       "<tr><td>               </td><td>Châtillon-le-Roi   </td><td style=\"text-align: right;\">       70</td><td style=\"text-align: right;\">     0.203548</td><td>██████                    </td></tr>\n",
       "</table>"
      ],
      "text/latex": [
       "\\begin{tabular}{llrrl}\n",
       "\\toprule\n",
       " nomtype         & nomville            &   nbphoto &   pourcentage & bar                        \\\\\n",
       "\\midrule\n",
       "                 & Orléans             &       297 &      0.863623 & ██████████████████████████ \\\\\n",
       " fête            & Orléans             &       143 &      0.415819 & ████████████               \\\\\n",
       " fonderie Bollée & Saint-Jean-de-Braye &        95 &      0.276243 & ████████                   \\\\\n",
       "                 & Nargis              &        88 &      0.255888 & ████████                   \\\\\n",
       "                 & Montargis           &        80 &      0.232626 & ███████                    \\\\\n",
       "                 & Gien                &        76 &      0.220994 & ███████                    \\\\\n",
       "                 & Saint-Jean-de-Braye &        76 &      0.220994 & ███████                    \\\\\n",
       "                 & Chécy               &        75 &      0.218087 & ███████                    \\\\\n",
       "                 & Mignerette          &        70 &      0.203548 & ██████                     \\\\\n",
       "                 & Châtillon-le-Roi    &        70 &      0.203548 & ██████                     \\\\\n",
       "\\bottomrule\n",
       "\\end{tabular}"
      ],
      "text/plain": [
       "nomtype          nomville               nbphoto    pourcentage  bar\n",
       "---------------  -------------------  ---------  -------------  --------------------------\n",
       "                 Orléans                    297       0.863623  ██████████████████████████\n",
       "fête             Orléans                    143       0.415819  ████████████\n",
       "fonderie Bollée  Saint-Jean-de-Braye         95       0.276243  ████████\n",
       "                 Nargis                      88       0.255888  ████████\n",
       "                 Montargis                   80       0.232626  ███████\n",
       "                 Gien                        76       0.220994  ███████\n",
       "                 Saint-Jean-de-Braye         76       0.220994  ███████\n",
       "                 Chécy                       75       0.218087  ███████\n",
       "                 Mignerette                  70       0.203548  ██████\n",
       "                 Châtillon-le-Roi            70       0.203548  ██████"
      ]
     },
     "metadata": {},
     "output_type": "display_data"
    }
   ],
   "source": [
    "/*================================================\n",
    " * Le pourcentage de type d’oeuvre représentées (+ par ville)\n",
    " *================================================*/\n",
    " \n",
    "WITH \n",
    "    subquery AS(SELECT COUNT(Article) as nbPhoto FROM Photo),\n",
    "    query AS(\n",
    "        SELECT NomType, NomVille,\n",
    "            COUNT(DISTINCT PhotoArticle) as nbPhoto, \n",
    "            COUNT(DISTINCT PhotoArticle)*100/(SELECT nbPhoto FROM subquery) ::float as pourcentage\n",
    "        FROM Document d, IndexPersonne p, TypeOeuvre t, Ville v\n",
    "        WHERE d.idOeuvre = p.idOeuvre and p.TypeOeuvre = t.idType and d.idVille = v.idVille\n",
    "        GROUP BY NomType, NomVille\n",
    "    )\n",
    "SELECT NomType, NomVille, nbPhoto, pourcentage, histogram(ARRAY(SELECT pourcentage from query), pourcentage) as bar\n",
    "FROM query\n",
    "ORDER BY nbPhoto DESC\n",
    "LIMIT 10;"
   ]
  },
  {
   "cell_type": "code",
   "execution_count": 26,
   "metadata": {
    "ExecuteTime": {
     "end_time": "2019-02-01T16:12:41.059815Z",
     "start_time": "2019-02-01T16:12:41.037649Z"
    }
   },
   "outputs": [
    {
     "name": "stdout",
     "output_type": "stream",
     "text": [
      "10 row(s) returned.\n"
     ]
    },
    {
     "data": {
      "text/html": [
       "<table>\n",
       "<tr><th>nomtype        </th><th style=\"text-align: right;\">  dateannee</th><th style=\"text-align: right;\">  nbphoto</th><th style=\"text-align: right;\">  pourcentage</th><th>bar               </th></tr>\n",
       "<tr><td>               </td><td style=\"text-align: right;\">       1975</td><td style=\"text-align: right;\">      211</td><td style=\"text-align: right;\">    0.61355  </td><td>██████████████████</td></tr>\n",
       "<tr><td>               </td><td style=\"text-align: right;\">       1996</td><td style=\"text-align: right;\">      145</td><td style=\"text-align: right;\">    0.421634 </td><td>█████████████     </td></tr>\n",
       "<tr><td>fête           </td><td style=\"text-align: right;\">       1996</td><td style=\"text-align: right;\">      143</td><td style=\"text-align: right;\">    0.415819 </td><td>████████████      </td></tr>\n",
       "<tr><td>               </td><td style=\"text-align: right;\">       1982</td><td style=\"text-align: right;\">      112</td><td style=\"text-align: right;\">    0.325676 </td><td>██████████        </td></tr>\n",
       "<tr><td>fonderie Bollée</td><td style=\"text-align: right;\">       1975</td><td style=\"text-align: right;\">       95</td><td style=\"text-align: right;\">    0.276243 </td><td>████████          </td></tr>\n",
       "<tr><td>               </td><td style=\"text-align: right;\">       1999</td><td style=\"text-align: right;\">       42</td><td style=\"text-align: right;\">    0.122129 </td><td>████              </td></tr>\n",
       "<tr><td>               </td><td style=\"text-align: right;\">       1972</td><td style=\"text-align: right;\">       32</td><td style=\"text-align: right;\">    0.0930503</td><td>███               </td></tr>\n",
       "<tr><td>               </td><td style=\"text-align: right;\">       1994</td><td style=\"text-align: right;\">       23</td><td style=\"text-align: right;\">    0.0668799</td><td>██                </td></tr>\n",
       "<tr><td>               </td><td style=\"text-align: right;\">       1974</td><td style=\"text-align: right;\">       23</td><td style=\"text-align: right;\">    0.0668799</td><td>██                </td></tr>\n",
       "<tr><td>               </td><td style=\"text-align: right;\">       1962</td><td style=\"text-align: right;\">       22</td><td style=\"text-align: right;\">    0.0639721</td><td>██                </td></tr>\n",
       "</table>"
      ],
      "text/latex": [
       "\\begin{tabular}{lrrrl}\n",
       "\\toprule\n",
       " nomtype         &   dateannee &   nbphoto &   pourcentage & bar                \\\\\n",
       "\\midrule\n",
       "                 &        1975 &       211 &     0.61355   & ██████████████████ \\\\\n",
       "                 &        1996 &       145 &     0.421634  & █████████████      \\\\\n",
       " fête            &        1996 &       143 &     0.415819  & ████████████       \\\\\n",
       "                 &        1982 &       112 &     0.325676  & ██████████         \\\\\n",
       " fonderie Bollée &        1975 &        95 &     0.276243  & ████████           \\\\\n",
       "                 &        1999 &        42 &     0.122129  & ████               \\\\\n",
       "                 &        1972 &        32 &     0.0930503 & ███                \\\\\n",
       "                 &        1994 &        23 &     0.0668799 & ██                 \\\\\n",
       "                 &        1974 &        23 &     0.0668799 & ██                 \\\\\n",
       "                 &        1962 &        22 &     0.0639721 & ██                 \\\\\n",
       "\\bottomrule\n",
       "\\end{tabular}"
      ],
      "text/plain": [
       "nomtype            dateannee    nbphoto    pourcentage  bar\n",
       "---------------  -----------  ---------  -------------  ------------------\n",
       "                        1975        211      0.61355    ██████████████████\n",
       "                        1996        145      0.421634   █████████████\n",
       "fête                    1996        143      0.415819   ████████████\n",
       "                        1982        112      0.325676   ██████████\n",
       "fonderie Bollée         1975         95      0.276243   ████████\n",
       "                        1999         42      0.122129   ████\n",
       "                        1972         32      0.0930503  ███\n",
       "                        1994         23      0.0668799  ██\n",
       "                        1974         23      0.0668799  ██\n",
       "                        1962         22      0.0639721  ██"
      ]
     },
     "metadata": {},
     "output_type": "display_data"
    }
   ],
   "source": [
    "/*================================================\n",
    " * Le pourcentage de type d’oeuvre représentées (+ par année)\n",
    " *================================================*/\n",
    " \n",
    "WITH \n",
    "    subquery AS(SELECT COUNT(Article) as nbPhoto FROM Photo),\n",
    "    query AS(\n",
    "        SELECT NomType, DateAnnee::numeric,\n",
    "            COUNT(DISTINCT PhotoArticle) as nbPhoto, \n",
    "            COUNT(DISTINCT PhotoArticle)*100/(SELECT nbPhoto FROM subquery) ::float as pourcentage\n",
    "        FROM Document d, IndexPersonne p, TypeOeuvre t, DatePhoto dp\n",
    "        WHERE d.idOeuvre = p.idOeuvre and p.TypeOeuvre = t.idType and d.idDate = dp.idDate\n",
    "        GROUP BY NomType, DateAnnee\n",
    "    )\n",
    "SELECT NomType, DateAnnee, nbPhoto, pourcentage, histogram(ARRAY(SELECT pourcentage from query), pourcentage) as bar\n",
    "FROM query\n",
    "ORDER BY nbPhoto DESC\n",
    "LIMIT 10;"
   ]
  },
  {
   "cell_type": "code",
   "execution_count": null,
   "metadata": {},
   "outputs": [],
   "source": []
  }
 ],
 "metadata": {
  "hide_input": false,
  "kernelspec": {
   "display_name": "PostgreSQL",
   "language": "sql",
   "name": "postgres"
  },
  "language_info": {
   "codemirror_mode": "sql",
   "file_extension": ".sql",
   "mimetype": "text/x-postgresql",
   "name": "PostgreSQL"
  },
  "nbTranslate": {
   "displayLangs": [
    "*"
   ],
   "hotkey": "alt-t",
   "langInMainMenu": true,
   "sourceLang": "fr",
   "targetLang": "en",
   "useGoogleTranslate": true
  }
 },
 "nbformat": 4,
 "nbformat_minor": 2
}
